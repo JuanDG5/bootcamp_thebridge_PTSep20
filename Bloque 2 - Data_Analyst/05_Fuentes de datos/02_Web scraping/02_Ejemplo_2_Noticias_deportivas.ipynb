{
 "cells": [
  {
   "cell_type": "markdown",
   "metadata": {},
   "source": [
    "# Ejemplo Web scrapping 2: Noticias deportivas\n",
    "\n",
    "En este notebook vamos a ver otro ejemplo de web scrapping, este con noticias deportivas:\n",
    "\n",
    "## Importando librerías\n",
    "\n",
    "Al igual que en el notebook anterior, importamos lo necesario:"
   ]
  },
  {
   "cell_type": "code",
   "execution_count": 39,
   "metadata": {},
   "outputs": [],
   "source": [
    "from bs4 import BeautifulSoup\n",
    "from requests import get\n",
    "import pandas as pd\n",
    "import itertools\n",
    "import matplotlib.pyplot as plt\n",
    "import seaborn as sns\n",
    "sns.set()\n",
    "\n",
    "\n",
    "from urllib.request import urlopen"
   ]
  },
  {
   "cell_type": "markdown",
   "metadata": {},
   "source": [
    "Leemos la web:"
   ]
  },
  {
   "cell_type": "code",
   "execution_count": 40,
   "metadata": {},
   "outputs": [],
   "source": [
    "# Cabeceras:\n",
    "headers = ({'User-Agent':\n",
    "            'Mozilla/5.0 (Windows NT 6.1) AppleWebKit/537.36 (KHTML, like Gecko) Chrome/41.0.2228.0 Safari/537.36'})\n",
    "# url web a scrapear:\n",
    "marca = \"https://www.marca.com/\"\n",
    "\n",
    "response = get(marca, headers = headers)"
   ]
  },
  {
   "cell_type": "markdown",
   "metadata": {},
   "source": [
    "Hacemos el get:"
   ]
  },
  {
   "cell_type": "code",
   "execution_count": 41,
   "metadata": {},
   "outputs": [
    {
     "name": "stdout",
     "output_type": "stream",
     "text": [
      "<Response [200]>\n"
     ]
    }
   ],
   "source": [
    "print(response) # un 200 es una buena señal :D"
   ]
  },
  {
   "cell_type": "markdown",
   "metadata": {},
   "source": [
    "Todo bien, pasamos a sacar cosas:"
   ]
  },
  {
   "cell_type": "code",
   "execution_count": 42,
   "metadata": {},
   "outputs": [],
   "source": [
    "html_soup = BeautifulSoup(response.text, 'html.parser')"
   ]
  },
  {
   "cell_type": "markdown",
   "metadata": {},
   "source": [
    "Tras enalizar la web, nos hemos fijado que todas las noticias tienen etiquetas ``h2`` y clase ``mod-title``:"
   ]
  },
  {
   "cell_type": "code",
   "execution_count": 43,
   "metadata": {},
   "outputs": [
    {
     "data": {
      "text/plain": [
       "<h2 class=\"mod-title\" itemprop=\"headline\"><a href=\"https://www.marca.com/futbol/copa-rey/alcoyano-vs-r-madrid/cronica/2021/01/20/6008b14c46163f85208b45f5.html\" itemprop=\"url\" title=\"¡Qué bochorno de Madrid!\"> ¡Qué bochorno de Madrid!\n",
       "</a></h2>"
      ]
     },
     "execution_count": 43,
     "metadata": {},
     "output_type": "execute_result"
    }
   ],
   "source": [
    "noticias = html_soup.find_all('h2', class_='mod-title')\n",
    "noticias[0]"
   ]
  },
  {
   "cell_type": "markdown",
   "metadata": {},
   "source": [
    "Dentro de cada una de ellas, tenemos que extraer, a su vez, el ``title`` de las ``a``:"
   ]
  },
  {
   "cell_type": "code",
   "execution_count": 44,
   "metadata": {},
   "outputs": [
    {
     "data": {
      "text/plain": [
       "'¡Qué bochorno de Madrid!'"
      ]
     },
     "execution_count": 44,
     "metadata": {},
     "output_type": "execute_result"
    }
   ],
   "source": [
    "noticia_ejemplo = noticias[0].find_all(\"a\")[0]\n",
    "# Con el strip eliminamos todas aquellas cosas raras al comienzo y final del string:\n",
    "noticia_ejemplo.text.strip()"
   ]
  },
  {
   "cell_type": "markdown",
   "metadata": {},
   "source": [
    "También podemos sacar el enlace como:"
   ]
  },
  {
   "cell_type": "code",
   "execution_count": 45,
   "metadata": {},
   "outputs": [
    {
     "data": {
      "text/plain": [
       "'https://www.marca.com/futbol/copa-rey/alcoyano-vs-r-madrid/cronica/2021/01/20/6008b14c46163f85208b45f5.html'"
      ]
     },
     "execution_count": 45,
     "metadata": {},
     "output_type": "execute_result"
    }
   ],
   "source": [
    "noticia_ejemplo.get_attribute_list('href')[0]"
   ]
  },
  {
   "cell_type": "markdown",
   "metadata": {},
   "source": [
    "Ahora podemos acceder a ese link y extraer la información de la noticia en sí:"
   ]
  },
  {
   "cell_type": "code",
   "execution_count": 46,
   "metadata": {},
   "outputs": [
    {
     "data": {
      "text/plain": [
       "'Estadísticas del partido | Así lo vivimosEl Real Madrid vivió una noche negra. El Alcoyano entra en la historia del Madrid como antes lo hicieron el Alcorcón o el Toledo, colocando al conjunto blanco en una crisis indiscutible. La noche mágica del meta José Juan, el esfuerzo del bloque y el acierto indiscutible en los momentos decisivos dieron una victoria con resonancia en todo el planeta fútbol, por su hazaña y por las consecuencias que pueda tener. La impotencia y la falta de reacción del equipo de Zidane pone aEl Real Madrid compareció en El Collao, el depósito nacional de la moral futbolera, repleto de incógnitas en el juego -los resultados lo demuestran- y en el vestuario - la inminente salida de Odegaard y la de Jovic pone en cuestión el manejo de Zidane con las promesas blancas-. Así que el técnico francés dio orden de no especular en Alcoy, presentando un once con más habituales de los esperados. A pesar de la rotación masiva en defensa, en parte obligada por las lesiones de Carvajal y Ramos, mantuvo a Casemiro y Lucas Vázquez en la alineación. Son hombres de su confianza, se lo han ganado. Y hay que reconocer que lo justifican en cualquier campo. En el barro y en los estadios cinco estrellas.Así que mandó el Madrid de salida, moviendo bien la pelota y llegando con soltura. Valverde probó a José Juan y el meta respondió con una parada notable, junto al palo. Militao entregó un cabezazo a las manos del portero, poco antes del cuarto de hora, y no hubo mucho más en el área porque el Alcoyano comenzó a sentirse cómodo sin la pelota. Bien colocado, el equipo alicantino juntó las líneas en su parcela y comenzó a aburrir al Madrid.Al Alcoyano le convenía el pestiño. Con un poco de suerte, los blancos se desconectaban y permitían un resultado apretado. A punto estuvo de hacer diana el equipo de Parras en la primera ocasión, un centro desde la deerecha que Mourad cabeceó potente. El debutante Lunin sacó con eficacia, aunque la jugada se anulase por fuera de juego. La amenaza era real.El plan local estuvo a punto de conquistar el descanso con tablas. En poco más de dos años como madridista, Eder Militao sólo había aparecido en naufragios, y ya le tocaba alguna alegría. El brasileño firmó el 0-1 con un cabezazo impecable y cercano. Remachó un centro de Marcelo tras asociarse con Isco, los dos de la vieja guardia que aspiran a volver. A poco que ofrezcan, Zidane les abre la puerta. Son de los suyos. Y punto.El tanto adormeció el partido. El Madrid cerró la puerta y se dedicó a evitar sustos. Nada que reoprochar en cuanto a actitud y sacrificio. Algo más en cuanto a fútbol. Un par de disparos lejanos, Mariano y Lucas, y pare usted de contar. Movió el banquillo Vicente Parras, tres cambios de una tacada, en busca de más verticalidad y llegada. El triángulo central blanco (Militao, Casemiro y Víctor Chust) no concedía nada, pero tampoco el Madrid mataba el partido. Mariano vio una tarjeta y Benzema empezó a calentar. No tuvo muchos más minutos el canterano, que se fue al banquillo rumiando la frustración.La entrada de Karim no arregló nada. Es más, al Madrid se le torció la noche de mala manera. Los equipos de Segunda B están acostumbrados a convertir un córner en un tesoro. Dos consecutivos, ejecutados con veneno por Juli, desembocaron en el empate. El primero lo sacó Lunin de puños, El segundo encontró a Solbes solo en el segundo palo, desatendido por Vinícius.El panorama espabiló al Madrid, que al menos intentó evitar la prórroga con algo de intención. Una falta lateral botada por Isco no pudo ser remachada por Benzema, y el balón muerto en el área llegó a Militao, que trató de rematar de espaldas. Ángel llegó tarde y chutó sobre el gemelo del brasileño. Sánchez Martínez se equivocó al interpretar la jugada. Con VAR, se habría señalado un penalti clamoroso. O no, vaya usted a saber. El caso es que la prórroga fue inevitable, condenando el conformismo blanco.Asensio fue la respuesta inmediata en la prórroga. Hazard y Kroos a calentar. Mérito indiscutible del Alcoyano, zarandeando al gigante blanco. Con un punto físico por encima, los futbolistas blanquiazules se vieron ante la ocasión de sus vidas. Especialmente en acciones a balón parado. Lunin tuvo que blocar un cabezazo cercano a la salida de un córner. Entraron el 7 y el 8, pero la noche era un drama. Antes del descanso de la prórroga, Benzema se lastimó.La épica acompañó al Alcoyano. De un lado, la prodigiosa actuación de José Juan, que evitó los tantos de Lucas, Asensio o Marcelo. Por otro, el bloque, organizándose tras la expulsión de Ramón. Capeó primero los arreones blancos. Y después elaboró un jugadón monumental en una contra por banda izquierda que Diakité sirvió al área chica para que Juanan remachara a la red. Histórico.Los últimos minutos retrataron a un Madrid impotente. Con sus mejores hombres sobre el césped, lo intentó con corazón, sin juego. El pitido final de Sánchez Martínez certificó la catástrofe blanca. Ni el penalti al limbo sirve de coartada. En El Collao, el Madrid tocó fondo.'"
      ]
     },
     "execution_count": 46,
     "metadata": {},
     "output_type": "execute_result"
    }
   ],
   "source": [
    "url_2 = noticia_ejemplo.get_attribute_list('href')[0]\n",
    "\n",
    "response_2 = get(url_2, headers = headers)\n",
    "html_soup_2 = BeautifulSoup(response_2.text, 'html.parser')\n",
    "\n",
    "\n",
    "# for texto in html_soup_2.find_all(\"p\"):\n",
    "#     print(texto.text)\n",
    "\n",
    "# El texto que queremos está en los p y en los h3, pero también se nos está colando cosas que no nos resultan neceasrias, ¿cómo podemos proceder?\n",
    "# Pues leyendo todo junto (que estará en orden según la página) y quedándonos con el texto hasta que detectemos algo que nos haga parar.\n",
    "# En este caso, ese algo será cuando lleguemos a un texto 'h3' que diga \"Temas relaciondos\". A partir de ese momento, ya no nos interesan \n",
    "#ni los 'p' ni los 'h3'\n",
    "texto_noticia = html_soup_2.find_all([\"p\", \"h3\"])\n",
    "texto_noticia\n",
    "\n",
    "noticia_completa = []\n",
    "cont = 0\n",
    "for line in texto_noticia:\n",
    "    cont += 1\n",
    "    if line.text == 'Temas relacionados':\n",
    "        break\n",
    "    # Nos saltamos siempre las 2 primeras líneas:\n",
    "    if cont > 2:\n",
    "        noticia_completa.append(line.text.strip())\n",
    "\n",
    "# noticia_completa\n",
    "# Y lo juntamos todo en un solo texto:\n",
    "''.join(noticia_completa)"
   ]
  },
  {
   "cell_type": "code",
   "execution_count": 47,
   "metadata": {},
   "outputs": [
    {
     "data": {
      "text/plain": [
       "[<p class=\"edition-selector__menu-title\">Ediciones:</p>,\n",
       " <p class=\"tab-news-title js-newsTitle\">Futbol/copa-rey</p>,\n",
       " <p class=\"summary-lead second izquierda\"><i class=\"item-sumary-lead\"></i><a href=\"https://www.marca.com/futbol/copa-del-rey/alcoyano-r-madrid-directo/2021/01/20/01_0105_20210120_2501_186.html\">Estadísticas del partido | Así lo vivimos</a></p>,\n",
       " <p><span class=\"capital-letter\">E</span>l Real Madrid vivió una noche negra. El Alcoyano entra en la historia del Madrid como antes lo hicieron el Alcorcón o el Toledo, colocando al conjunto blanco en una crisis indiscutible. La noche mágica del meta José Juan, el esfuerzo del bloque y el acierto indiscutible en los momentos decisivos dieron una victoria con resonancia en todo el planeta fútbol, por su hazaña y por las consecuencias que pueda tener. La impotencia y la falta de reacción del equipo de Zidane pone a </p>,\n",
       " <p>El Real Madrid compareció en El Collao, el depósito nacional de la moral futbolera, repleto de incógnitas en el juego -los resultados lo demuestran- y en el vestuario - la inminente salida de Odegaard y la de Jovic pone en cuestión el manejo de Zidane con las promesas blancas-. Así que el técnico francés dio orden de no especular en Alcoy, presentando un once con más habituales de los esperados. A pesar de la rotación masiva en defensa, en parte obligada por las lesiones de Carvajal y Ramos, mantuvo a Casemiro y Lucas Vázquez en la alineación. Son hombres de su confianza, se lo han ganado. Y hay que reconocer que lo justifican en cualquier campo. En el barro y en los estadios cinco estrellas.</p>,\n",
       " <p>Así que mandó el Madrid de salida, moviendo bien la pelota y llegando con soltura. Valverde probó a José Juan y el meta respondió con una parada notable, junto al palo. Militao entregó un cabezazo a las manos del portero, poco antes del cuarto de hora, y no hubo mucho más en el área porque el Alcoyano comenzó a sentirse cómodo sin la pelota. Bien colocado, el equipo alicantino juntó las líneas en su parcela y comenzó a aburrir al Madrid. </p>,\n",
       " <p>Al Alcoyano le convenía el pestiño. Con un poco de suerte, los blancos se desconectaban y permitían un resultado apretado. A punto estuvo de hacer diana el equipo de Parras en la primera ocasión, un centro desde la deerecha que Mourad cabeceó potente. El debutante Lunin sacó con eficacia, aunque la jugada se anulase por fuera de juego. La amenaza era real. </p>,\n",
       " <p>El plan local estuvo a punto de conquistar el descanso con tablas. En poco más de dos años como madridista, Eder Militao sólo había aparecido en naufragios, y ya le tocaba alguna alegría. El brasileño firmó el 0-1 con un cabezazo impecable y cercano. Remachó un centro de Marcelo tras asociarse con Isco, los dos de la vieja guardia que aspiran a volver. A poco que ofrezcan, Zidane les abre la puerta. Son de los suyos. Y punto.</p>,\n",
       " <p>El tanto adormeció el partido. El Madrid cerró la puerta y se dedicó a evitar sustos. Nada que reoprochar en cuanto a actitud y sacrificio. Algo más en cuanto a fútbol. Un par de disparos lejanos, Mariano y Lucas, y pare usted de contar. Movió el banquillo Vicente Parras, tres cambios de una tacada, en busca de más verticalidad y llegada. El triángulo central blanco (Militao, Casemiro y Víctor Chust) no concedía nada, pero tampoco el Madrid mataba el partido. Mariano vio una tarjeta y Benzema empezó a calentar. No tuvo muchos más minutos el canterano, que se fue al banquillo rumiando la frustración.</p>,\n",
       " <p>La entrada de Karim no arregló nada. Es más, al Madrid se le torció la noche de mala manera. Los equipos de Segunda B están acostumbrados a convertir un córner en un tesoro. Dos consecutivos, ejecutados con veneno por Juli, desembocaron en el empate. El primero lo sacó Lunin de puños, El segundo encontró a Solbes solo en el segundo palo, desatendido por Vinícius. </p>,\n",
       " <p>El panorama espabiló al Madrid, que al menos intentó evitar la prórroga con algo de intención. Una falta lateral botada por Isco no pudo ser remachada por Benzema, y el balón muerto en el área llegó a Militao, que trató de rematar de espaldas. Ángel llegó tarde y chutó sobre el gemelo del brasileño. Sánchez Martínez se equivocó al interpretar la jugada. Con VAR, se habría señalado un penalti clamoroso. O no, vaya usted a saber. El caso es que la prórroga fue inevitable, condenando el conformismo blanco. </p>,\n",
       " <p>Asensio fue la respuesta inmediata en la prórroga. Hazard y Kroos a calentar. Mérito indiscutible del Alcoyano, zarandeando al gigante blanco. Con un punto físico por encima, los futbolistas blanquiazules se vieron ante la ocasión de sus vidas. Especialmente en acciones a balón parado. Lunin tuvo que blocar un cabezazo cercano a la salida de un córner. Entraron el 7 y el 8, pero la noche era un drama. Antes del descanso de la prórroga, Benzema se lastimó. </p>,\n",
       " <p>La épica acompañó al Alcoyano. De un lado, la prodigiosa actuación de José Juan, que evitó los tantos de Lucas, Asensio o Marcelo. Por otro, el bloque, organizándose tras la expulsión de Ramón. Capeó primero los arreones blancos. Y después elaboró un jugadón monumental en una contra por banda izquierda que Diakité sirvió al área chica para que Juanan remachara a la red. Histórico. </p>,\n",
       " <p>Los últimos minutos retrataron a un Madrid impotente. Con sus mejores hombres sobre el césped, lo intentó con corazón, sin juego. El pitido final de Sánchez Martínez certificó la catástrofe blanca. Ni el penalti al limbo sirve de coartada. En El Collao, el Madrid tocó fondo.</p>,\n",
       " <h3 class=\"list-header\"><span>Temas relacionados</span></h3>,\n",
       " <p class=\"nombre\">\n",
       " <img alt=\"\" src=\"https://e00-marca.uecdn.es/social/ugc/avatars/006/340/xlarge_6340500.jpg\"/>\n",
       " <span class=\"nombre_usuario\">Sidious</span>\n",
       " </p>,\n",
       " <p>Del Alcorconazo al Alcoyanazo.</p>,\n",
       " <p class=\"nombre\">\n",
       " <img alt=\"\" src=\"https://e00-marca.uecdn.es/registro/v2/images/avatar/avatar.svg\"/>\n",
       " <span class=\"nombre_usuario\">Bughu_ul</span>\n",
       " </p>,\n",
       " <p>Buscando penaldos desesperadamente contra un Segunda B. Esta gente ha perdido por completo el sentido de la vergüenza.</p>,\n",
       " <p>© Enero\n",
       " 2021\n",
       " <span itemprop=\"name\">Unidad Editorial Información Deportiva, S.L.U. Todos los derechos reservados.</span></p>,\n",
       " <p>Síguenos en</p>]"
      ]
     },
     "execution_count": 47,
     "metadata": {},
     "output_type": "execute_result"
    }
   ],
   "source": [
    "texto_noticia"
   ]
  },
  {
   "cell_type": "markdown",
   "metadata": {},
   "source": [
    "Iteramos con esta condición. Y para combinarlo con lo otro, podríamos extraer todos los links a noticias y, posteriormente, extraer el texto de cada una de ellas:"
   ]
  },
  {
   "cell_type": "code",
   "execution_count": 48,
   "metadata": {},
   "outputs": [
    {
     "data": {
      "text/plain": [
       "'¡Qué bochorno de Madrid!'"
      ]
     },
     "execution_count": 48,
     "metadata": {},
     "output_type": "execute_result"
    }
   ],
   "source": [
    "noticias[0].find_all(\"a\")[0].text.strip()"
   ]
  },
  {
   "cell_type": "code",
   "execution_count": 49,
   "metadata": {},
   "outputs": [],
   "source": [
    "# Leemos títulos de artículos y sus links y los guardamos:\n",
    "marca = \"https://www.marca.com/\"\n",
    "\n",
    "response = get(marca, headers = headers)\n",
    "\n",
    "html_soup = BeautifulSoup(response.text, 'html.parser')\n",
    "\n",
    "noticias = html_soup.find_all('h2', class_='mod-title')\n",
    "\n",
    "# Noticia a noticia para sacar links:\n",
    "textos = []\n",
    "links = []\n",
    "for noticia in noticias:\n",
    "    try:\n",
    "        text_noticia = noticia.find_all(\"a\")[0].text.strip()\n",
    "        link = noticia.find_all(\"a\")[0].get_attribute_list('href')[0]\n",
    "        \n",
    "        textos.append(text_noticia)\n",
    "        links.append(link)\n",
    "    except:\n",
    "        pass\n",
    "    \n",
    "# Una vez tenemos las noticias, iteramos por cada uno de sus enlaes:\n",
    "textos_noticias_completos = []\n",
    "for link in links:\n",
    "    response_2 = get(link, headers = headers)\n",
    "    html_soup_2 = BeautifulSoup(response_2.text, 'html.parser')\n",
    "    \n",
    "    texto_noticia = html_soup_2.find_all([\"p\", \"h3\"])\n",
    "    texto_noticia\n",
    "    noticia_completa = []\n",
    "    cont = 0\n",
    "    for line in texto_noticia:\n",
    "        cont += 1\n",
    "        if line.text == 'Temas relacionados':\n",
    "            break\n",
    "        # Nos saltamos siempre las 2 primeras líneas:\n",
    "        if cont > 2:\n",
    "            noticia_completa.append(line.text.strip())\n",
    "    \n",
    "    textos_noticias_completos.append(''.join(noticia_completa))"
   ]
  },
  {
   "cell_type": "markdown",
   "metadata": {},
   "source": [
    "Finalmente, nos creamos el dataframe con todo lo que tenemos.\n",
    "\n",
    "Importante, si vamos a manejar muchos datos (pero muchos muchos), será mejor ir creando el dataframe poco a poco (cada x llamadas) para no almacenar demasiada información duplicada al mismo tiempo."
   ]
  },
  {
   "cell_type": "code",
   "execution_count": 50,
   "metadata": {},
   "outputs": [],
   "source": [
    "cols = ['Título', 'Descripción', 'Enlace']\n",
    "\n",
    "noticias_deportivas = pd.DataFrame({'Título': textos,\n",
    "                                    'Descripción': textos_noticias_completos,\n",
    "                                    'Enlace': links})[cols]\n",
    "\n",
    "noticias_deportivas.to_excel('marca_noticias.xls', index=False)\n",
    "noticias_deportivas_df = pd.read_excel('marca_noticias.xls')"
   ]
  },
  {
   "cell_type": "code",
   "execution_count": 51,
   "metadata": {},
   "outputs": [
    {
     "data": {
      "text/html": [
       "<div>\n",
       "<style scoped>\n",
       "    .dataframe tbody tr th:only-of-type {\n",
       "        vertical-align: middle;\n",
       "    }\n",
       "\n",
       "    .dataframe tbody tr th {\n",
       "        vertical-align: top;\n",
       "    }\n",
       "\n",
       "    .dataframe thead th {\n",
       "        text-align: right;\n",
       "    }\n",
       "</style>\n",
       "<table border=\"1\" class=\"dataframe\">\n",
       "  <thead>\n",
       "    <tr style=\"text-align: right;\">\n",
       "      <th></th>\n",
       "      <th>Título</th>\n",
       "      <th>Descripción</th>\n",
       "      <th>Enlace</th>\n",
       "    </tr>\n",
       "  </thead>\n",
       "  <tbody>\n",
       "    <tr>\n",
       "      <th>0</th>\n",
       "      <td>¡Qué bochorno de Madrid!</td>\n",
       "      <td>Estadísticas del partido | Así lo vivimosEl Re...</td>\n",
       "      <td>https://www.marca.com/futbol/copa-rey/alcoyano...</td>\n",
       "    </tr>\n",
       "    <tr>\n",
       "      <th>1</th>\n",
       "      <td>Zidane: \"Esto no es una vergüenza, puede pasar\"</td>\n",
       "      <td>Contracrónica: Esto sí puede acabar con Zidane...</td>\n",
       "      <td>https://www.marca.com/futbol/copa-del-rey/alco...</td>\n",
       "    </tr>\n",
       "    <tr>\n",
       "      <th>2</th>\n",
       "      <td>Si Zidane se salva de esta, es un milagro</td>\n",
       "      <td>La crónica del Alcoyano-MadridEl uno a uno del...</td>\n",
       "      <td>https://www.marca.com/futbol/copa-rey/2021/01/...</td>\n",
       "    </tr>\n",
       "    <tr>\n",
       "      <th>3</th>\n",
       "      <td>Así se entra en la historia negra: la culpa es...</td>\n",
       "      <td>Alcoyano-Real Madrid, en directoOdeggard se ac...</td>\n",
       "      <td>https://www.marca.com/futbol/real-madrid/2021/...</td>\n",
       "    </tr>\n",
       "    <tr>\n",
       "      <th>4</th>\n",
       "      <td>Así la clasificación de LaLiga</td>\n",
       "      <td>© Enero\\n2021\\nUnidad Editorial Información De...</td>\n",
       "      <td>https://www.marca.com/futbol/primera-division/...</td>\n",
       "    </tr>\n",
       "    <tr>\n",
       "      <th>5</th>\n",
       "      <td>El Mercedes Clase G finaliza en una excelente ...</td>\n",
       "      <td>El Dakar 2021 ya es historia. El Raid más duro...</td>\n",
       "      <td>https://www.marca.com/uestudio/2021/01/18/6005...</td>\n",
       "    </tr>\n",
       "    <tr>\n",
       "      <th>6</th>\n",
       "      <td>Odegaard, cerca de la Real</td>\n",
       "      <td>Martin Odegaard lo tiene claro y sigue firme e...</td>\n",
       "      <td>https://www.marca.com/futbol/real-madrid/2021/...</td>\n",
       "    </tr>\n",
       "    <tr>\n",
       "      <th>7</th>\n",
       "      <td>'No' a Koeman por Eric García</td>\n",
       "      <td>El Govern aprueba el voto por correo para las ...</td>\n",
       "      <td>https://www.marca.com/futbol/barcelona/2021/01...</td>\n",
       "    </tr>\n",
       "    <tr>\n",
       "      <th>8</th>\n",
       "      <td>El Getafe de Kubo cambia de cara</td>\n",
       "      <td>Estadísticas del partido y así lo vivimosVeloc...</td>\n",
       "      <td>https://www.marca.com/futbol/primera-division/...</td>\n",
       "    </tr>\n",
       "    <tr>\n",
       "      <th>9</th>\n",
       "      <td>El último servicio de Willian José</td>\n",
       "      <td>Estadísticas del partido y así lo vivimosWilli...</td>\n",
       "      <td>https://www.marca.com/futbol/copa-rey/cordoba-...</td>\n",
       "    </tr>\n",
       "    <tr>\n",
       "      <th>10</th>\n",
       "      <td>Cristiano marca 'a lo Raúl' y ya tiene a tiro ...</td>\n",
       "      <td>Bundesliga (J17): Resumen y gol del Augsburgo ...</td>\n",
       "      <td>https://videos.marca.com/v/0_t2mr2srt-cristian...</td>\n",
       "    </tr>\n",
       "    <tr>\n",
       "      <th>11</th>\n",
       "      <td>Terrible explosión en el centro de Madrid: al ...</td>\n",
       "      <td>A las 15:00 horas de la tarde se ha producido ...</td>\n",
       "      <td>https://www.marca.com/tiramillas/actualidad/20...</td>\n",
       "    </tr>\n",
       "    <tr>\n",
       "      <th>12</th>\n",
       "      <td>DAZN se podrá ver en Movistar+</td>\n",
       "      <td>Movistar+, la plataforma líder en entretenimie...</td>\n",
       "      <td>https://www.marca.com/tiramillas/television/20...</td>\n",
       "    </tr>\n",
       "    <tr>\n",
       "      <th>13</th>\n",
       "      <td>Un sacerdote quedó atrapado en la quinta plant...</td>\n",
       "      <td>Biden firma los primeros decretos para borrar ...</td>\n",
       "      <td>https://videos.marca.com/v/0_nr80ictg-un-sacer...</td>\n",
       "    </tr>\n",
       "    <tr>\n",
       "      <th>14</th>\n",
       "      <td>Jovic se desquicia con el Eintracht: acción an...</td>\n",
       "      <td>Bundesliga (J17): Resumen y gol del Augsburgo ...</td>\n",
       "      <td>https://videos.marca.com/v/0_5ufaxzcr-jovic-ac...</td>\n",
       "    </tr>\n",
       "    <tr>\n",
       "      <th>15</th>\n",
       "      <td>Impactante: así quedó la calle Toledo tras el ...</td>\n",
       "      <td>Biden firma los primeros decretos para borrar ...</td>\n",
       "      <td>https://videos.marca.com/index.php/v/0_icpx138...</td>\n",
       "    </tr>\n",
       "    <tr>\n",
       "      <th>16</th>\n",
       "      <td>Willian José podría decir hoy adiós a la Real ...</td>\n",
       "      <td>Willian José podría jugar esta tarde en Córdob...</td>\n",
       "      <td>https://www.marca.com/futbol/real-sociedad/202...</td>\n",
       "    </tr>\n",
       "    <tr>\n",
       "      <th>17</th>\n",
       "      <td>Pogba salva el liderato del United</td>\n",
       "      <td>El Manchester United sobrevivió a la presión q...</td>\n",
       "      <td>https://www.marca.com/futbol/premier-league/fu...</td>\n",
       "    </tr>\n",
       "    <tr>\n",
       "      <th>18</th>\n",
       "      <td>La hija de Peter Lim, tras vacunarse: \"No me g...</td>\n",
       "      <td>El club es nuestro y podemos hacer lo que quer...</td>\n",
       "      <td>https://www.marca.com/futbol/valencia/2021/01/...</td>\n",
       "    </tr>\n",
       "    <tr>\n",
       "      <th>19</th>\n",
       "      <td>Los embajadores de LaLiga se retan en el Fanta...</td>\n",
       "      <td>Los embajadores de LaLiga se retan en el Fanta...</td>\n",
       "      <td>https://www.marca.com/laliga-fantasy/album/202...</td>\n",
       "    </tr>\n",
       "    <tr>\n",
       "      <th>20</th>\n",
       "      <td>\"Deberían sancionar también a Gil Manzano por ...</td>\n",
       "      <td>Escucha Radio MARCAEscucha la entrevista compl...</td>\n",
       "      <td>https://www.marca.com/radio/2021/01/20/6008351...</td>\n",
       "    </tr>\n",
       "    <tr>\n",
       "      <th>21</th>\n",
       "      <td>Estas pueden ser las consecuencias de un golpe...</td>\n",
       "      <td>Afiliados especialesVolver a BienestarJoanna G...</td>\n",
       "      <td>https://cuidateplus.marca.com/bienestar/2021/0...</td>\n",
       "    </tr>\n",
       "    <tr>\n",
       "      <th>22</th>\n",
       "      <td>Una sudadera Adidas al 40%, un aspirador sin c...</td>\n",
       "      <td>Bombillas inteligentes, buscadores de llaves y...</td>\n",
       "      <td>https://www.marca.com/regalos-promociones/2021...</td>\n",
       "    </tr>\n",
       "    <tr>\n",
       "      <th>23</th>\n",
       "      <td>Racismo y sexismo en el Dakar: \"Por tercera ve...</td>\n",
       "      <td>En el Rally Dakar que acabó la semana pasada s...</td>\n",
       "      <td>https://www.marca.com/motor/dakar/2021/01/20/6...</td>\n",
       "    </tr>\n",
       "    <tr>\n",
       "      <th>24</th>\n",
       "      <td>La ineficacia de las mascarillas contra la nue...</td>\n",
       "      <td>Última horaExpansión PandemiaCoronavirusVacuna...</td>\n",
       "      <td>https://www.marca.com/tiramillas/actualidad/20...</td>\n",
       "    </tr>\n",
       "    <tr>\n",
       "      <th>25</th>\n",
       "      <td>Djokovic, tras las críticas: \"Quizás debería s...</td>\n",
       "      <td>Djokovic aplaude el improvisado partido de ten...</td>\n",
       "      <td>https://www.marca.com/tenis/open-australia/202...</td>\n",
       "    </tr>\n",
       "    <tr>\n",
       "      <th>26</th>\n",
       "      <td>\"No me sentó bien el fichaje de Carlos Sainz p...</td>\n",
       "      <td>Sainz empieza fuerte: \"Seis horas con ingenier...</td>\n",
       "      <td>https://www.marca.com/motor/formula1/2021/01/2...</td>\n",
       "    </tr>\n",
       "    <tr>\n",
       "      <th>27</th>\n",
       "      <td>Greta Thunberg ajusta cuentas con Donald Trump...</td>\n",
       "      <td>La sueca Greta Thunberg ha aprovechado la inve...</td>\n",
       "      <td>https://www.marca.com/tiramillas/actualidad/20...</td>\n",
       "    </tr>\n",
       "    <tr>\n",
       "      <th>28</th>\n",
       "      <td>Su padre le regala una prueba de ADN y su verd...</td>\n",
       "      <td>El impresionante vídeo viral de la Vía Láctea ...</td>\n",
       "      <td>https://www.marca.com/tiramillas/actualidad/20...</td>\n",
       "    </tr>\n",
       "    <tr>\n",
       "      <th>29</th>\n",
       "      <td>Ben Affleck, tras romper con Ana de Armas: \"Wh...</td>\n",
       "      <td>Kate Winslet: \"Me di cuenta de lo que era la f...</td>\n",
       "      <td>https://www.marca.com/tiramillas/cine/2021/01/...</td>\n",
       "    </tr>\n",
       "    <tr>\n",
       "      <th>30</th>\n",
       "      <td>Jorge Fernández acaba con los rumores y se sin...</td>\n",
       "      <td>Decisión trascendental de Sandra Barneda y Nag...</td>\n",
       "      <td>https://www.marca.com/tiramillas/television/20...</td>\n",
       "    </tr>\n",
       "    <tr>\n",
       "      <th>31</th>\n",
       "      <td>¿De portería a portería no era una guarrería? ...</td>\n",
       "      <td>Bundesliga (J17): Resumen y gol del Augsburgo ...</td>\n",
       "      <td>https://videos.marca.com/v/0_mxgj13sy-de-porte...</td>\n",
       "    </tr>\n",
       "    <tr>\n",
       "      <th>32</th>\n",
       "      <td>Campazzo calla bocas: asistencia entre las pie...</td>\n",
       "      <td>Bienvenidos al siglo XXII en la NBA: Bol Bol, ...</td>\n",
       "      <td>https://videos.marca.com/index.php/v/0_ns79dkl...</td>\n",
       "    </tr>\n",
       "    <tr>\n",
       "      <th>33</th>\n",
       "      <td>Roger Vasselin combate la espera hasta el Open...</td>\n",
       "      <td>Así fue la presentación del equipo Kern Pharma...</td>\n",
       "      <td>https://videos.marca.com/v/0_v9rrvubt-roger-va...</td>\n",
       "    </tr>\n",
       "    <tr>\n",
       "      <th>34</th>\n",
       "      <td>Dos mujeres demandan a McGregor por una presun...</td>\n",
       "      <td>Conor McGregor llega a Abu Dabi y lo reciben c...</td>\n",
       "      <td>https://www.marca.com/combates-ufc/2021/01/20/...</td>\n",
       "    </tr>\n",
       "    <tr>\n",
       "      <th>35</th>\n",
       "      <td>El milagro de  Delonte West: de pedir en las c...</td>\n",
       "      <td>Mark Cuban salva al 'maldito' Delonte West: le...</td>\n",
       "      <td>https://www.marca.com/baloncesto/nba/2021/01/2...</td>\n",
       "    </tr>\n",
       "    <tr>\n",
       "      <th>36</th>\n",
       "      <td>Melania pasa de Donald Trump al llegar a Flori...</td>\n",
       "      <td>Biden firma los primeros decretos para borrar ...</td>\n",
       "      <td>https://videos.marca.com/v/0_xmt3cnwz-melania-...</td>\n",
       "    </tr>\n",
       "    <tr>\n",
       "      <th>37</th>\n",
       "      <td>Siempre hay que creer: ¡remonta más de 4 segun...</td>\n",
       "      <td>Así fue la presentación del equipo Kern Pharma...</td>\n",
       "      <td>https://videos.marca.com/index.php/v/0_cfpgxon...</td>\n",
       "    </tr>\n",
       "  </tbody>\n",
       "</table>\n",
       "</div>"
      ],
      "text/plain": [
       "                                               Título  \\\n",
       "0                            ¡Qué bochorno de Madrid!   \n",
       "1     Zidane: \"Esto no es una vergüenza, puede pasar\"   \n",
       "2           Si Zidane se salva de esta, es un milagro   \n",
       "3   Así se entra en la historia negra: la culpa es...   \n",
       "4                      Así la clasificación de LaLiga   \n",
       "5   El Mercedes Clase G finaliza en una excelente ...   \n",
       "6                          Odegaard, cerca de la Real   \n",
       "7                       'No' a Koeman por Eric García   \n",
       "8                    El Getafe de Kubo cambia de cara   \n",
       "9                  El último servicio de Willian José   \n",
       "10  Cristiano marca 'a lo Raúl' y ya tiene a tiro ...   \n",
       "11  Terrible explosión en el centro de Madrid: al ...   \n",
       "12                     DAZN se podrá ver en Movistar+   \n",
       "13  Un sacerdote quedó atrapado en la quinta plant...   \n",
       "14  Jovic se desquicia con el Eintracht: acción an...   \n",
       "15  Impactante: así quedó la calle Toledo tras el ...   \n",
       "16  Willian José podría decir hoy adiós a la Real ...   \n",
       "17                 Pogba salva el liderato del United   \n",
       "18  La hija de Peter Lim, tras vacunarse: \"No me g...   \n",
       "19  Los embajadores de LaLiga se retan en el Fanta...   \n",
       "20  \"Deberían sancionar también a Gil Manzano por ...   \n",
       "21  Estas pueden ser las consecuencias de un golpe...   \n",
       "22  Una sudadera Adidas al 40%, un aspirador sin c...   \n",
       "23  Racismo y sexismo en el Dakar: \"Por tercera ve...   \n",
       "24  La ineficacia de las mascarillas contra la nue...   \n",
       "25  Djokovic, tras las críticas: \"Quizás debería s...   \n",
       "26  \"No me sentó bien el fichaje de Carlos Sainz p...   \n",
       "27  Greta Thunberg ajusta cuentas con Donald Trump...   \n",
       "28  Su padre le regala una prueba de ADN y su verd...   \n",
       "29  Ben Affleck, tras romper con Ana de Armas: \"Wh...   \n",
       "30  Jorge Fernández acaba con los rumores y se sin...   \n",
       "31  ¿De portería a portería no era una guarrería? ...   \n",
       "32  Campazzo calla bocas: asistencia entre las pie...   \n",
       "33  Roger Vasselin combate la espera hasta el Open...   \n",
       "34  Dos mujeres demandan a McGregor por una presun...   \n",
       "35  El milagro de  Delonte West: de pedir en las c...   \n",
       "36  Melania pasa de Donald Trump al llegar a Flori...   \n",
       "37  Siempre hay que creer: ¡remonta más de 4 segun...   \n",
       "\n",
       "                                          Descripción  \\\n",
       "0   Estadísticas del partido | Así lo vivimosEl Re...   \n",
       "1   Contracrónica: Esto sí puede acabar con Zidane...   \n",
       "2   La crónica del Alcoyano-MadridEl uno a uno del...   \n",
       "3   Alcoyano-Real Madrid, en directoOdeggard se ac...   \n",
       "4   © Enero\\n2021\\nUnidad Editorial Información De...   \n",
       "5   El Dakar 2021 ya es historia. El Raid más duro...   \n",
       "6   Martin Odegaard lo tiene claro y sigue firme e...   \n",
       "7   El Govern aprueba el voto por correo para las ...   \n",
       "8   Estadísticas del partido y así lo vivimosVeloc...   \n",
       "9   Estadísticas del partido y así lo vivimosWilli...   \n",
       "10  Bundesliga (J17): Resumen y gol del Augsburgo ...   \n",
       "11  A las 15:00 horas de la tarde se ha producido ...   \n",
       "12  Movistar+, la plataforma líder en entretenimie...   \n",
       "13  Biden firma los primeros decretos para borrar ...   \n",
       "14  Bundesliga (J17): Resumen y gol del Augsburgo ...   \n",
       "15  Biden firma los primeros decretos para borrar ...   \n",
       "16  Willian José podría jugar esta tarde en Córdob...   \n",
       "17  El Manchester United sobrevivió a la presión q...   \n",
       "18  El club es nuestro y podemos hacer lo que quer...   \n",
       "19  Los embajadores de LaLiga se retan en el Fanta...   \n",
       "20  Escucha Radio MARCAEscucha la entrevista compl...   \n",
       "21  Afiliados especialesVolver a BienestarJoanna G...   \n",
       "22  Bombillas inteligentes, buscadores de llaves y...   \n",
       "23  En el Rally Dakar que acabó la semana pasada s...   \n",
       "24  Última horaExpansión PandemiaCoronavirusVacuna...   \n",
       "25  Djokovic aplaude el improvisado partido de ten...   \n",
       "26  Sainz empieza fuerte: \"Seis horas con ingenier...   \n",
       "27  La sueca Greta Thunberg ha aprovechado la inve...   \n",
       "28  El impresionante vídeo viral de la Vía Láctea ...   \n",
       "29  Kate Winslet: \"Me di cuenta de lo que era la f...   \n",
       "30  Decisión trascendental de Sandra Barneda y Nag...   \n",
       "31  Bundesliga (J17): Resumen y gol del Augsburgo ...   \n",
       "32  Bienvenidos al siglo XXII en la NBA: Bol Bol, ...   \n",
       "33  Así fue la presentación del equipo Kern Pharma...   \n",
       "34  Conor McGregor llega a Abu Dabi y lo reciben c...   \n",
       "35  Mark Cuban salva al 'maldito' Delonte West: le...   \n",
       "36  Biden firma los primeros decretos para borrar ...   \n",
       "37  Así fue la presentación del equipo Kern Pharma...   \n",
       "\n",
       "                                               Enlace  \n",
       "0   https://www.marca.com/futbol/copa-rey/alcoyano...  \n",
       "1   https://www.marca.com/futbol/copa-del-rey/alco...  \n",
       "2   https://www.marca.com/futbol/copa-rey/2021/01/...  \n",
       "3   https://www.marca.com/futbol/real-madrid/2021/...  \n",
       "4   https://www.marca.com/futbol/primera-division/...  \n",
       "5   https://www.marca.com/uestudio/2021/01/18/6005...  \n",
       "6   https://www.marca.com/futbol/real-madrid/2021/...  \n",
       "7   https://www.marca.com/futbol/barcelona/2021/01...  \n",
       "8   https://www.marca.com/futbol/primera-division/...  \n",
       "9   https://www.marca.com/futbol/copa-rey/cordoba-...  \n",
       "10  https://videos.marca.com/v/0_t2mr2srt-cristian...  \n",
       "11  https://www.marca.com/tiramillas/actualidad/20...  \n",
       "12  https://www.marca.com/tiramillas/television/20...  \n",
       "13  https://videos.marca.com/v/0_nr80ictg-un-sacer...  \n",
       "14  https://videos.marca.com/v/0_5ufaxzcr-jovic-ac...  \n",
       "15  https://videos.marca.com/index.php/v/0_icpx138...  \n",
       "16  https://www.marca.com/futbol/real-sociedad/202...  \n",
       "17  https://www.marca.com/futbol/premier-league/fu...  \n",
       "18  https://www.marca.com/futbol/valencia/2021/01/...  \n",
       "19  https://www.marca.com/laliga-fantasy/album/202...  \n",
       "20  https://www.marca.com/radio/2021/01/20/6008351...  \n",
       "21  https://cuidateplus.marca.com/bienestar/2021/0...  \n",
       "22  https://www.marca.com/regalos-promociones/2021...  \n",
       "23  https://www.marca.com/motor/dakar/2021/01/20/6...  \n",
       "24  https://www.marca.com/tiramillas/actualidad/20...  \n",
       "25  https://www.marca.com/tenis/open-australia/202...  \n",
       "26  https://www.marca.com/motor/formula1/2021/01/2...  \n",
       "27  https://www.marca.com/tiramillas/actualidad/20...  \n",
       "28  https://www.marca.com/tiramillas/actualidad/20...  \n",
       "29  https://www.marca.com/tiramillas/cine/2021/01/...  \n",
       "30  https://www.marca.com/tiramillas/television/20...  \n",
       "31  https://videos.marca.com/v/0_mxgj13sy-de-porte...  \n",
       "32  https://videos.marca.com/index.php/v/0_ns79dkl...  \n",
       "33  https://videos.marca.com/v/0_v9rrvubt-roger-va...  \n",
       "34  https://www.marca.com/combates-ufc/2021/01/20/...  \n",
       "35  https://www.marca.com/baloncesto/nba/2021/01/2...  \n",
       "36  https://videos.marca.com/v/0_xmt3cnwz-melania-...  \n",
       "37  https://videos.marca.com/index.php/v/0_cfpgxon...  "
      ]
     },
     "execution_count": 51,
     "metadata": {},
     "output_type": "execute_result"
    }
   ],
   "source": [
    "noticias_deportivas_df"
   ]
  },
  {
   "cell_type": "code",
   "execution_count": null,
   "metadata": {},
   "outputs": [],
   "source": []
  },
  {
   "cell_type": "code",
   "execution_count": null,
   "metadata": {},
   "outputs": [],
   "source": []
  }
 ],
 "metadata": {
  "kernelspec": {
   "display_name": "Python 3",
   "language": "python",
   "name": "python3"
  },
  "language_info": {
   "codemirror_mode": {
    "name": "ipython",
    "version": 3
   },
   "file_extension": ".py",
   "mimetype": "text/x-python",
   "name": "python",
   "nbconvert_exporter": "python",
   "pygments_lexer": "ipython3",
   "version": "3.8.3"
  }
 },
 "nbformat": 4,
 "nbformat_minor": 4
}
