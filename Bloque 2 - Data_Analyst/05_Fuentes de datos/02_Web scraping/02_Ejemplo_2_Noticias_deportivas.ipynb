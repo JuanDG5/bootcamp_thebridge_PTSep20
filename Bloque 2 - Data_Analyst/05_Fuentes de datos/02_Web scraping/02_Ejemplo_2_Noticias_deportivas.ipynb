{
 "cells": [
  {
   "cell_type": "markdown",
   "metadata": {},
   "source": [
    "# Ejemplo Web scrapping 2: Noticias deportivas\n",
    "\n",
    "En este notebook vamos a ver otro ejemplo de web scrapping, este con noticias deportivas:\n",
    "\n",
    "## Importando librerías\n",
    "\n",
    "Al igual que en el notebook anterior, importamos lo necesario:"
   ]
  },
  {
   "cell_type": "code",
   "execution_count": 101,
   "metadata": {},
   "outputs": [],
   "source": [
    "from bs4 import BeautifulSoup\n",
    "from requests import get\n",
    "import pandas as pd\n",
    "import itertools\n",
    "import matplotlib.pyplot as plt\n",
    "import seaborn as sns\n",
    "sns.set()\n",
    "\n",
    "\n",
    "from urllib.request import urlopen"
   ]
  },
  {
   "cell_type": "markdown",
   "metadata": {},
   "source": [
    "Leemos la web:"
   ]
  },
  {
   "cell_type": "code",
   "execution_count": 102,
   "metadata": {},
   "outputs": [],
   "source": [
    "# Cabeceras:\n",
    "headers = ({'User-Agent':\n",
    "            'Mozilla/5.0 (Windows NT 6.1) AppleWebKit/537.36 (KHTML, like Gecko) Chrome/41.0.2228.0 Safari/537.36'})\n",
    "# url web a scrapear:\n",
    "marca = \"https://www.marca.com/\"\n",
    "\n",
    "response = get(marca, headers = headers)"
   ]
  },
  {
   "cell_type": "markdown",
   "metadata": {},
   "source": [
    "Hacemos el get:"
   ]
  },
  {
   "cell_type": "code",
   "execution_count": 104,
   "metadata": {},
   "outputs": [
    {
     "name": "stdout",
     "output_type": "stream",
     "text": [
      "<Response [200]>\n"
     ]
    }
   ],
   "source": [
    "print(response) # un 200 es una buena señal :D"
   ]
  },
  {
   "cell_type": "markdown",
   "metadata": {},
   "source": [
    "Todo bien, pasamos a sacar cosas:"
   ]
  },
  {
   "cell_type": "code",
   "execution_count": 108,
   "metadata": {},
   "outputs": [],
   "source": [
    "html_soup = BeautifulSoup(response.text, 'html.parser')"
   ]
  },
  {
   "cell_type": "markdown",
   "metadata": {},
   "source": [
    "Tras enalizar la web, nos hemos fijado que todas las noticias tienen etiquetas ``h2`` y clase ``mod-title``:"
   ]
  },
  {
   "cell_type": "code",
   "execution_count": 118,
   "metadata": {},
   "outputs": [
    {
     "data": {
      "text/plain": [
       "<h2 class=\"mod-title\" itemprop=\"headline\"><a href=\"https://www.marca.com/otros-deportes/2021/01/16/6001728222601d96068b45b2.html\" itemprop=\"url\" title=\"El 'club del caníbal' espera a Cristiano Ronaldo\"> El 'club del caníbal' espera a Cristiano Ronaldo\n",
       "</a></h2>"
      ]
     },
     "execution_count": 118,
     "metadata": {},
     "output_type": "execute_result"
    }
   ],
   "source": [
    "noticias = html_soup.find_all('h2', class_='mod-title')\n",
    "noticias[0]"
   ]
  },
  {
   "cell_type": "markdown",
   "metadata": {},
   "source": [
    "Dentro de cada una de ellas, tenemos que extraer, a su vez, el ``title`` de las ``a``:"
   ]
  },
  {
   "cell_type": "code",
   "execution_count": 148,
   "metadata": {},
   "outputs": [
    {
     "data": {
      "text/plain": [
       "\"El 'club del caníbal' espera a Cristiano Ronaldo\""
      ]
     },
     "execution_count": 148,
     "metadata": {},
     "output_type": "execute_result"
    }
   ],
   "source": [
    "noticia_ejemplo = noticias[0].find_all(\"a\")[0]\n",
    "# Con el strip eliminamos todas aquellas cosas raras al comienzo y final del string:\n",
    "noticia_ejemplo.text.strip()"
   ]
  },
  {
   "cell_type": "markdown",
   "metadata": {},
   "source": [
    "También podemos sacar el enlace como:"
   ]
  },
  {
   "cell_type": "code",
   "execution_count": 151,
   "metadata": {},
   "outputs": [
    {
     "data": {
      "text/plain": [
       "'https://www.marca.com/otros-deportes/2021/01/16/6001728222601d96068b45b2.html'"
      ]
     },
     "execution_count": 151,
     "metadata": {},
     "output_type": "execute_result"
    }
   ],
   "source": [
    "noticia_ejemplo.get_attribute_list('href')[0]"
   ]
  },
  {
   "cell_type": "markdown",
   "metadata": {},
   "source": [
    "Ahora podemos acceder a ese link y extraer la información de la noticia en sí:"
   ]
  },
  {
   "cell_type": "code",
   "execution_count": 219,
   "metadata": {
    "collapsed": true,
    "jupyter": {
     "outputs_hidden": true
    }
   },
   "outputs": [
    {
     "data": {
      "text/plain": [
       "'La desgracia se ceba con Karl-Anthony TownsRicky Rubio y Juancho Hernangómez, en cuarentenaLos contagios de la covid-19 sigue haciendo estragos dentro de la NBA. Pero especialmente con jugador que se ha visto afectado: el pívot estadounidense-dominicano Karl-Anthony Towns, de los Minnesota Timberwolves, quien confirmó a través de la redes sociales que había dado positivo.\"Antes del partido de esta noche, recibí otra llamada terrible y di positivo por COVID. Me aislaré inmediatamente y seguiré todos los protocolos\", afirmaba el jugador de origen dominicano que ha perdido siete familiares por culpa de la pandemia que ha costado la vida a más de dos millones de personas en todo el mundo, incluida su madre.pic.twitter.com/bk0tzC6jiV\"Rezo todos los días para que esta pesadilla del virus desaparezca y les ruego a todos que continúen tomándoselo en serio y tomando todas las precauciones necesarias. No podemos parar la expansión del virus solos. Tiene que ser un esfuerzo de grupo de todos nosotros\", reclamaba un TownsLa estrella de los Wolves terminaba su particular mensaje recordando los duros momentos que ha tenido que pasar su familia, a la que también hacía una promesa: \"Me rompe el corazón que mi familia, y en particular mi padre y mi hermana, tengan que seguir sufriendo la ansiedad que conlleva este diagnóstico dado que todos nosotros conocemos bien cuál puede ser el resultado final. A mi sobrina y a mi sobrino, Jolani y Max, os prometo que no terminaré en un ataúd junto a mi madre y que venceré a esto\".El presidente de operaciones de los Timberwolves, el colombiano Gersson Rosas, valoró el diagnóstico de Towns como \"desgarrador. Es una lección para todos nosotros. El baloncesto es un microcosmos de la sociedad en este momento y puedes hacer las cosas de forma correcta, pero este virus es poderoso y creativo\".Suscríbete a la Newsletter de Basket de MARCA y recibe en tu correo electrónico, de lunes a domingo y a primera hora de la mañana, las noticias exclusivas, entrevistas, reportajes, gráficos y vídeos que marcarán el día en la NBA, Liga Endesa, Euroliga y el resto del mundo de la canasta.'"
      ]
     },
     "execution_count": 219,
     "metadata": {},
     "output_type": "execute_result"
    }
   ],
   "source": [
    "url_2 = noticia_ejemplo.get_attribute_list('href')[0]\n",
    "\n",
    "response_2 = get(url_2, headers = headers)\n",
    "html_soup_2 = BeautifulSoup(response_2.text, 'html.parser')\n",
    "\n",
    "\n",
    "# for texto in html_soup_2.find_all(\"p\"):\n",
    "#     print(texto.text)\n",
    "\n",
    "# El texto que queremos está en los p y en los h3, pero también se nos está colando cosas que no nos resultan neceasrias, ¿cómo podemos proceder?\n",
    "# Pues leyendo todo junto (que estará en orden según la página) y quedándonos con el texto hasta que detectemos algo que nos haga parar.\n",
    "# En este caso, ese algo será cuando lleguemos a un texto 'h3' que diga \"Temas relaciondos\". A partir de ese momento, ya no nos interesan \n",
    "#ni los 'p' ni los 'h3'\n",
    "texto_noticia = html_soup_2.find_all([\"p\", \"h3\"])\n",
    "texto_noticia\n",
    "\n",
    "noticia_completa = []\n",
    "cont = 0\n",
    "for line in texto_noticia:\n",
    "    cont += 1\n",
    "    if line.text == 'Temas relacionados':\n",
    "        break\n",
    "    # Nos saltamos siempre las 2 primeras líneas:\n",
    "    if cont > 2:\n",
    "        noticia_completa.append(line.text.strip())\n",
    "\n",
    "# noticia_completa\n",
    "# Y lo juntamos todo en un solo texto:\n",
    "''.join(noticia_completa)"
   ]
  },
  {
   "cell_type": "code",
   "execution_count": 218,
   "metadata": {
    "collapsed": true,
    "jupyter": {
     "outputs_hidden": true
    }
   },
   "outputs": [
    {
     "data": {
      "text/plain": [
       "[<p class=\"edition-selector__menu-title\">Ediciones:</p>,\n",
       " <p class=\"tab-news-title js-newsTitle\">Baloncesto/nba</p>,\n",
       " <p class=\"summary-lead second izquierda\"><i class=\"item-sumary-lead\"></i><a href=\"https://www.marca.com/baloncesto/nba/2020/12/05/5fcb4346ca4741705e8b45b0.html\">La desgracia se ceba con Karl-Anthony Towns</a></p>,\n",
       " <p class=\"summary-lead second izquierda\"><i class=\"item-sumary-lead\"></i><a href=\"https://www.marca.com/baloncesto/nba/2021/01/15/6000e9fb46163fc0bf8b4571.html\">Ricky Rubio y Juancho Hernangómez, en cuarentena</a></p>,\n",
       " <p><span class=\"capital-letter\">L</span>os contagios de la <strong><a href=\"https://www.marca.com/baloncesto/nba/2021/01/12/5ffe0188e2704e0d298b4584.html\">covid-19</a></strong> sigue haciendo estragos dentro de la NBA. Pero especialmente con jugador que se ha visto afectado: el pívot estadounidense-dominicano <strong><a href=\"https://www.marca.com/baloncesto/nba/2020/12/05/5fcb4346ca4741705e8b45b0.html\">Karl-Anthony Towns</a></strong>, de los <strong><a href=\"https://www.marca.com/baloncesto/minnesota-timberwolves.html\">Minnesota Timberwolves</a></strong>, quien confirmó a través de la redes sociales que había dado positivo.</p>,\n",
       " <p>\"Antes del partido de esta noche, recibí otra llamada terrible y di positivo por COVID. <strong>Me aislaré inmediatamente y seguiré todos los protocolos\"</strong>, afirmaba el jugador de origen dominicano que <strong><a href=\"https://www.marca.com/baloncesto/nba/2020/12/05/5fcb4346ca4741705e8b45b0.html\">ha perdido siete familiares por culpa de la pandemia</a></strong> que ha costado la vida a <strong><a href=\"https://www.marca.com/tiramillas/actualidad/2021/01/16/6002838446163fce058b45ac.html\">más de dos millones de personas en todo el mundo</a></strong>, incluida su madre.</p>,\n",
       " <p dir=\"ltr\" lang=\"und\"><a href=\"https://t.co/bk0tzC6jiV\">pic.twitter.com/bk0tzC6jiV</a></p>,\n",
       " <p>\"Rezo todos los días para que esta pesadilla del virus desaparezca y les ruego a todos que continúen tomándoselo en serio y tomando todas las precauciones necesarias. <strong>No podemos parar la expansión del virus solos. Tiene que ser un esfuerzo de grupo</strong> de todos nosotros\", reclamaba un Towns</p>,\n",
       " <p>La estrella de los Wolves terminaba su particular mensaje recordando los duros momentos que ha tenido que pasar su familia, a la que también hacía una promesa: \"<strong>Me rompe el corazón que mi familia, y en particular mi padre y mi hermana, tengan que seguir sufriendo la ansiedad que conlleva este diagnóstico</strong> dado que todos nosotros conocemos bien cuál puede ser el resultado final. A mi sobrina y a mi sobrino, Jolani y Max, <strong>os prometo que no terminaré en un ataúd junto a mi madre y que venceré a esto\".</strong></p>,\n",
       " <p>El presidente de operaciones de los Timberwolves, el colombiano Gersson Rosas, valoró el diagnóstico de Towns como \"desgarrador. Es una lección para todos nosotros. El baloncesto es un microcosmos de la sociedad en este momento y puedes hacer las cosas de forma correcta, pero este virus es poderoso y creativo\".</p>,\n",
       " <p><em><strong><a href=\"https://seguro.marca.com/newsletters.html\" target=\"_blank\">Suscríbete a la Newsletter de Basket de MARCA</a></strong> y recibe en tu correo electrónico, de lunes a domingo y a primera hora de la mañana, las noticias exclusivas, entrevistas, reportajes, gráficos y vídeos que marcarán el día en la NBA, Liga Endesa, Euroliga y el resto del mundo de la canasta.</em></p>,\n",
       " <h3 class=\"list-header\"><span>Temas relacionados</span></h3>,\n",
       " <p class=\"nombre\">\n",
       " <img alt=\"\" src=\"https://e00-marca.uecdn.es/registro/v2/images/avatar/avatar.svg\"/>\n",
       " <span class=\"nombre_usuario\">KingPisaPelotas23</span>\n",
       " </p>,\n",
       " <p>Pero todavia tenemos a Limelight alias \"Fakepandemia\" diciendo que todo esto es una invención de Gates, Soros y todas esas chorradas de negacionistas, M.Bose y Bunbury....vaya panzá a palos.</p>,\n",
       " <p>© Enero\n",
       " 2021\n",
       " <span itemprop=\"name\">Unidad Editorial Información Deportiva, S.L.U. Todos los derechos reservados.</span></p>,\n",
       " <p>Síguenos en</p>]"
      ]
     },
     "execution_count": 218,
     "metadata": {},
     "output_type": "execute_result"
    }
   ],
   "source": [
    "texto_noticia"
   ]
  },
  {
   "cell_type": "markdown",
   "metadata": {},
   "source": [
    "Iteramos con esta condición. Y para combinarlo con lo otro, podríamos extraer todos los links a noticias y, posteriormente, extraer el texto de cada una de ellas:"
   ]
  },
  {
   "cell_type": "code",
   "execution_count": 178,
   "metadata": {},
   "outputs": [
    {
     "data": {
      "text/plain": [
       "\"El 'club del caníbal' espera a Cristiano Ronaldo\""
      ]
     },
     "execution_count": 178,
     "metadata": {},
     "output_type": "execute_result"
    }
   ],
   "source": [
    "noticias[0].find_all(\"a\")[0].text.strip()"
   ]
  },
  {
   "cell_type": "code",
   "execution_count": 220,
   "metadata": {},
   "outputs": [],
   "source": [
    "# Leemos títulos de artículos y sus links y los guardamos:\n",
    "marca = \"https://www.marca.com/\"\n",
    "\n",
    "response = get(marca, headers = headers)\n",
    "\n",
    "html_soup = BeautifulSoup(response.text, 'html.parser')\n",
    "\n",
    "noticias = html_soup.find_all('h2', class_='mod-title')\n",
    "\n",
    "# Noticia a noticia para sacar links:\n",
    "textos = []\n",
    "links = []\n",
    "for noticia in noticias:\n",
    "    try:\n",
    "        text_noticia = noticia.find_all(\"a\")[0].text.strip()\n",
    "        link = noticia.find_all(\"a\")[0].get_attribute_list('href')[0]\n",
    "        \n",
    "        textos.append(text_noticia)\n",
    "        links.append(link)\n",
    "    except:\n",
    "        pass\n",
    "    \n",
    "# Una vez tenemos las noticias, iteramos por cada uno de sus enlaes:\n",
    "textos_noticias_completos = []\n",
    "for link in links:\n",
    "    response_2 = get(link, headers = headers)\n",
    "    html_soup_2 = BeautifulSoup(response_2.text, 'html.parser')\n",
    "    \n",
    "    texto_noticia = html_soup_2.find_all([\"p\", \"h3\"])\n",
    "    texto_noticia\n",
    "    noticia_completa = []\n",
    "    cont = 0\n",
    "    for line in texto_noticia:\n",
    "        cont += 1\n",
    "        if line.text == 'Temas relacionados':\n",
    "            break\n",
    "        # Nos saltamos siempre las 2 primeras líneas:\n",
    "        if cont > 2:\n",
    "            noticia_completa.append(line.text.strip())\n",
    "    \n",
    "    textos_noticias_completos.append(''.join(noticia_completa))"
   ]
  },
  {
   "cell_type": "markdown",
   "metadata": {},
   "source": [
    "Finalmente, nos creamos el dataframe con todo lo que tenemos.\n",
    "\n",
    "Importante, si vamos a manejar muchos datos (pero muchos muchos), será mejor ir creando el dataframe poco a poco (cada x llamadas) para no almacenar demasiada información duplicada al mismo tiempo."
   ]
  },
  {
   "cell_type": "code",
   "execution_count": 222,
   "metadata": {},
   "outputs": [],
   "source": [
    "cols = ['Título', 'Descripción', 'Enlace']\n",
    "\n",
    "noticias_deportivas = pd.DataFrame({'Título': textos,\n",
    "                                    'Descripción': textos_noticias_completos,\n",
    "                                    'Enlace': links})[cols]\n",
    "\n",
    "noticias_deportivas.to_excel('marca_noticias.xls', index=False)\n",
    "noticias_deportivas_df = pd.read_excel('marca_noticias.xls')"
   ]
  },
  {
   "cell_type": "code",
   "execution_count": 223,
   "metadata": {},
   "outputs": [
    {
     "data": {
      "text/html": [
       "<div>\n",
       "<style scoped>\n",
       "    .dataframe tbody tr th:only-of-type {\n",
       "        vertical-align: middle;\n",
       "    }\n",
       "\n",
       "    .dataframe tbody tr th {\n",
       "        vertical-align: top;\n",
       "    }\n",
       "\n",
       "    .dataframe thead th {\n",
       "        text-align: right;\n",
       "    }\n",
       "</style>\n",
       "<table border=\"1\" class=\"dataframe\">\n",
       "  <thead>\n",
       "    <tr style=\"text-align: right;\">\n",
       "      <th></th>\n",
       "      <th>Título</th>\n",
       "      <th>Descripción</th>\n",
       "      <th>Enlace</th>\n",
       "    </tr>\n",
       "  </thead>\n",
       "  <tbody>\n",
       "    <tr>\n",
       "      <th>0</th>\n",
       "      <td>El 'club del caníbal' espera a Cristiano Ronaldo</td>\n",
       "      <td>Cristiano Ronaldo superó a Pelé como segundo m...</td>\n",
       "      <td>https://www.marca.com/otros-deportes/2021/01/1...</td>\n",
       "    </tr>\n",
       "    <tr>\n",
       "      <th>1</th>\n",
       "      <td>Desgarrador Karl-Anthony Towns tras dar positi...</td>\n",
       "      <td>La desgracia se ceba con Karl-Anthony TownsRic...</td>\n",
       "      <td>https://www.marca.com/baloncesto/nba/2021/01/1...</td>\n",
       "    </tr>\n",
       "    <tr>\n",
       "      <th>2</th>\n",
       "      <td>\"La barriga de Harden ridiculiza a la NBA\"</td>\n",
       "      <td>James Harden lo consiguió. No quería jugar en ...</td>\n",
       "      <td>https://www.marca.com/baloncesto/nba/opinion/2...</td>\n",
       "    </tr>\n",
       "    <tr>\n",
       "      <th>3</th>\n",
       "      <td>El hombre de las finales que puede perder su r...</td>\n",
       "      <td>Messi no se entrena y su participación en la f...</td>\n",
       "      <td>https://www.marca.com/futbol/barcelona/2021/01...</td>\n",
       "    </tr>\n",
       "    <tr>\n",
       "      <th>4</th>\n",
       "      <td>\"¿Rooney, el mejor jugador inglés? No metan a ...</td>\n",
       "      <td>Wayne Rooney es, en mi opinión y en la de much...</td>\n",
       "      <td>https://www.marca.com/futbol/premier-league/op...</td>\n",
       "    </tr>\n",
       "    <tr>\n",
       "      <th>5</th>\n",
       "      <td>El Mercedes Clase G encara la parte final del ...</td>\n",
       "      <td>El Dakar Classic 2021 sigue avanzando y se enc...</td>\n",
       "      <td>https://www.marca.com/uestudio/2021/01/14/6000...</td>\n",
       "    </tr>\n",
       "    <tr>\n",
       "      <th>6</th>\n",
       "      <td>\"En mi debut grité a Cannavaro: ¡Hazme la cobe...</td>\n",
       "      <td>Pepe, el mítico central del Real Madrid, ha he...</td>\n",
       "      <td>https://www.marca.com/futbol/real-madrid/2021/...</td>\n",
       "    </tr>\n",
       "    <tr>\n",
       "      <th>7</th>\n",
       "      <td>La afición vaticina el fin del ciclo de Zidane</td>\n",
       "      <td>Zidane agota su once y lo paga en la Supercopa...</td>\n",
       "      <td>https://www.marca.com/futbol/real-madrid/2021/...</td>\n",
       "    </tr>\n",
       "    <tr>\n",
       "      <th>8</th>\n",
       "      <td>Las portadas: el tren de Hazard, la intención ...</td>\n",
       "      <td>NaN</td>\n",
       "      <td>https://www.marca.com/mundo-marca/album/2021/0...</td>\n",
       "    </tr>\n",
       "    <tr>\n",
       "      <th>9</th>\n",
       "      <td>Pedrerol analiza las retransmisiones del Madri...</td>\n",
       "      <td>Klopp: \"Bruno Fernandes ha sido un gran fichaj...</td>\n",
       "      <td>https://videos.marca.com/v/0_1nz90mgg-pedrerol...</td>\n",
       "    </tr>\n",
       "    <tr>\n",
       "      <th>10</th>\n",
       "      <td>El dispositivo que la DGT no quiere que uses n...</td>\n",
       "      <td>Adelantamientos más lentos, pero, ¿más seguros...</td>\n",
       "      <td>https://www.marca.com/coches-y-motos/trafico/2...</td>\n",
       "    </tr>\n",
       "    <tr>\n",
       "      <th>11</th>\n",
       "      <td>El gazapo de las zapatillas de 'Lupin' que Net...</td>\n",
       "      <td>'Lupin', un ladrón de guante blanco llega a Ne...</td>\n",
       "      <td>https://www.marca.com/tiramillas/series/2021/0...</td>\n",
       "    </tr>\n",
       "    <tr>\n",
       "      <th>12</th>\n",
       "      <td>Doncic roza el triple-doble pero cae in extrem...</td>\n",
       "      <td>El banquillo de los Mavericks 'suspende' a Don...</td>\n",
       "      <td>https://www.marca.com/baloncesto/nba/2021/01/1...</td>\n",
       "    </tr>\n",
       "    <tr>\n",
       "      <th>13</th>\n",
       "      <td>Lío en el clásico portugués... y aparece Pepe ...</td>\n",
       "      <td>Klopp: \"Bruno Fernandes ha sido un gran fichaj...</td>\n",
       "      <td>https://videos.marca.com/v/0_ruz97sso-pepe-se-...</td>\n",
       "    </tr>\n",
       "    <tr>\n",
       "      <th>14</th>\n",
       "      <td>Rubiales se disculpa: \"Fue un error de la real...</td>\n",
       "      <td>Movistar muestra todas las tomasLa jugada que ...</td>\n",
       "      <td>https://www.marca.com/futbol/supercopa-espana/...</td>\n",
       "    </tr>\n",
       "    <tr>\n",
       "      <th>15</th>\n",
       "      <td>Disgusto para Eric: las elecciones serán el 7-...</td>\n",
       "      <td>Las elecciones no se podrán celebrar el 24 de ...</td>\n",
       "      <td>https://www.marca.com/futbol/barcelona/2021/01...</td>\n",
       "    </tr>\n",
       "    <tr>\n",
       "      <th>16</th>\n",
       "      <td>El curioso récord que Huntelaar ha batido en l...</td>\n",
       "      <td>Huntelaar anuncia su retirada a final de tempo...</td>\n",
       "      <td>https://www.marca.com/futbol/futbol-internacio...</td>\n",
       "    </tr>\n",
       "    <tr>\n",
       "      <th>17</th>\n",
       "      <td>Más de dos millones de muertos por la pandemia...</td>\n",
       "      <td>Última horaVacuna Covid-19CoronavirusExpansión...</td>\n",
       "      <td>https://www.marca.com/tiramillas/actualidad/20...</td>\n",
       "    </tr>\n",
       "    <tr>\n",
       "      <th>18</th>\n",
       "      <td>Varios jugones de LaLiga os lo piden a gritos:...</td>\n",
       "      <td>Onces probables para la jornada 19Así está el ...</td>\n",
       "      <td>https://www.marca.com/laliga-fantasy/2021/01/1...</td>\n",
       "    </tr>\n",
       "    <tr>\n",
       "      <th>19</th>\n",
       "      <td>\"El Atlético es el favorito número uno para La...</td>\n",
       "      <td>Escucha Radio MARCA\"¿Que el Real Madrid ha ten...</td>\n",
       "      <td>https://www.marca.com/radio/2021/01/15/6001d7e...</td>\n",
       "    </tr>\n",
       "    <tr>\n",
       "      <th>20</th>\n",
       "      <td>La rutina de ejercicios perfecta para perder g...</td>\n",
       "      <td>Afiliados especialesVolver a Ejercicio físicoJ...</td>\n",
       "      <td>https://cuidateplus.marca.com/ejercicio-fisico...</td>\n",
       "    </tr>\n",
       "    <tr>\n",
       "      <th>21</th>\n",
       "      <td>Angy Fernández nos cuenta cómo fue el rodaje d...</td>\n",
       "      <td>Overcooked, conviértete en chef sin salir del ...</td>\n",
       "      <td>https://www.marca.com/videojuegos/gaming-show/...</td>\n",
       "    </tr>\n",
       "    <tr>\n",
       "      <th>22</th>\n",
       "      <td>Ibaka y los Clippers abusan de la peor defensa...</td>\n",
       "      <td>Ibaka se afianza en los dobles dígitos y se la...</td>\n",
       "      <td>https://www.marca.com/baloncesto/nba/2021/01/1...</td>\n",
       "    </tr>\n",
       "    <tr>\n",
       "      <th>23</th>\n",
       "      <td>Un colosal Tavares no evita el sufrimiento del...</td>\n",
       "      <td>Estadísticas completas del partidoAsí está la ...</td>\n",
       "      <td>https://www.marca.com/baloncesto/euroliga/2021...</td>\n",
       "    </tr>\n",
       "    <tr>\n",
       "      <th>24</th>\n",
       "      <td>El Barça se come al CSKA en Moscú con un Higgi...</td>\n",
       "      <td>Estadísticas completas del partidoAsí está la ...</td>\n",
       "      <td>https://www.marca.com/baloncesto/euroliga/2021...</td>\n",
       "    </tr>\n",
       "    <tr>\n",
       "      <th>25</th>\n",
       "      <td>El Valencia se reengancha a la Euroliga</td>\n",
       "      <td>Estadísticas completas del partidoAsí está la ...</td>\n",
       "      <td>https://www.marca.com/baloncesto/euroliga/2021...</td>\n",
       "    </tr>\n",
       "    <tr>\n",
       "      <th>26</th>\n",
       "      <td>El escalofriante relato de un sanitario contag...</td>\n",
       "      <td>Última horaVacuna Covid-19CoronavirusExpansión...</td>\n",
       "      <td>https://www.marca.com/tiramillas/actualidad/20...</td>\n",
       "    </tr>\n",
       "    <tr>\n",
       "      <th>27</th>\n",
       "      <td>Hollywood alucina: un gran actor adelgaza 113 ...</td>\n",
       "      <td>Chris Pratt revela su secreto para adelgazar 3...</td>\n",
       "      <td>https://www.marca.com/tiramillas/cine/2021/01/...</td>\n",
       "    </tr>\n",
       "    <tr>\n",
       "      <th>28</th>\n",
       "      <td>Vicente Vallés atiza al Gobierno por la subida...</td>\n",
       "      <td>Vicente Vallés, periodista de Antena 3, ha vue...</td>\n",
       "      <td>https://www.marca.com/tiramillas/television/20...</td>\n",
       "    </tr>\n",
       "    <tr>\n",
       "      <th>29</th>\n",
       "      <td>Descubren un peculiar planeta con tres soles y...</td>\n",
       "      <td>Descubren el planeta Pi, que orbita alrededor ...</td>\n",
       "      <td>https://www.marca.com/tiramillas/actualidad/20...</td>\n",
       "    </tr>\n",
       "    <tr>\n",
       "      <th>30</th>\n",
       "      <td>El vídeo viral de Rubén de la Barrera: ¿le ent...</td>\n",
       "      <td>Klopp: \"Bruno Fernandes ha sido un gran fichaj...</td>\n",
       "      <td>https://videos.marca.com/v/0_xig4x8vl-el-video...</td>\n",
       "    </tr>\n",
       "    <tr>\n",
       "      <th>31</th>\n",
       "      <td>Así vivió el banquillo del Athletic la victori...</td>\n",
       "      <td>Klopp: \"Bruno Fernandes ha sido un gran fichaj...</td>\n",
       "      <td>https://videos.marca.com/v/0_vmdv7n6v-asi-vivi...</td>\n",
       "    </tr>\n",
       "    <tr>\n",
       "      <th>32</th>\n",
       "      <td>Álvaro narra las provocaciones de Neymar y le ...</td>\n",
       "      <td>Klopp: \"Bruno Fernandes ha sido un gran fichaj...</td>\n",
       "      <td>https://videos.marca.com/v/0_diipgk5q-alvaro-d...</td>\n",
       "    </tr>\n",
       "    <tr>\n",
       "      <th>33</th>\n",
       "      <td>La nueva casa de Ibai Llanos  en la que vivió ...</td>\n",
       "      <td>Pandarina: \"Mi consejo para empezar en Twitch ...</td>\n",
       "      <td>https://www.marca.com/videojuegos/lo-mas-gamin...</td>\n",
       "    </tr>\n",
       "    <tr>\n",
       "      <th>34</th>\n",
       "      <td>La otra cara de Eder Sarabia: \"Somos como se n...</td>\n",
       "      <td>Después de su polémico paso por el FC Barcelon...</td>\n",
       "      <td>https://www.marca.com/futbol/2021/01/15/6001ae...</td>\n",
       "    </tr>\n",
       "    <tr>\n",
       "      <th>35</th>\n",
       "      <td>El 'nuevo Atleti' de Dembélé, líder indiscutib...</td>\n",
       "      <td>MARCA y Amazon unen sus fuerzas en AudibleEscu...</td>\n",
       "      <td>https://www.marca.com/podcast/2021/01/15/6001a...</td>\n",
       "    </tr>\n",
       "    <tr>\n",
       "      <th>36</th>\n",
       "      <td>Rod Laver: 'Cohete', campeón y modelo de campe...</td>\n",
       "      <td>NaN</td>\n",
       "      <td>https://cutt.ly/XjRnHOX</td>\n",
       "    </tr>\n",
       "  </tbody>\n",
       "</table>\n",
       "</div>"
      ],
      "text/plain": [
       "                                               Título  \\\n",
       "0    El 'club del caníbal' espera a Cristiano Ronaldo   \n",
       "1   Desgarrador Karl-Anthony Towns tras dar positi...   \n",
       "2          \"La barriga de Harden ridiculiza a la NBA\"   \n",
       "3   El hombre de las finales que puede perder su r...   \n",
       "4   \"¿Rooney, el mejor jugador inglés? No metan a ...   \n",
       "5   El Mercedes Clase G encara la parte final del ...   \n",
       "6   \"En mi debut grité a Cannavaro: ¡Hazme la cobe...   \n",
       "7      La afición vaticina el fin del ciclo de Zidane   \n",
       "8   Las portadas: el tren de Hazard, la intención ...   \n",
       "9   Pedrerol analiza las retransmisiones del Madri...   \n",
       "10  El dispositivo que la DGT no quiere que uses n...   \n",
       "11  El gazapo de las zapatillas de 'Lupin' que Net...   \n",
       "12  Doncic roza el triple-doble pero cae in extrem...   \n",
       "13  Lío en el clásico portugués... y aparece Pepe ...   \n",
       "14  Rubiales se disculpa: \"Fue un error de la real...   \n",
       "15  Disgusto para Eric: las elecciones serán el 7-...   \n",
       "16  El curioso récord que Huntelaar ha batido en l...   \n",
       "17  Más de dos millones de muertos por la pandemia...   \n",
       "18  Varios jugones de LaLiga os lo piden a gritos:...   \n",
       "19  \"El Atlético es el favorito número uno para La...   \n",
       "20  La rutina de ejercicios perfecta para perder g...   \n",
       "21  Angy Fernández nos cuenta cómo fue el rodaje d...   \n",
       "22  Ibaka y los Clippers abusan de la peor defensa...   \n",
       "23  Un colosal Tavares no evita el sufrimiento del...   \n",
       "24  El Barça se come al CSKA en Moscú con un Higgi...   \n",
       "25            El Valencia se reengancha a la Euroliga   \n",
       "26  El escalofriante relato de un sanitario contag...   \n",
       "27  Hollywood alucina: un gran actor adelgaza 113 ...   \n",
       "28  Vicente Vallés atiza al Gobierno por la subida...   \n",
       "29  Descubren un peculiar planeta con tres soles y...   \n",
       "30  El vídeo viral de Rubén de la Barrera: ¿le ent...   \n",
       "31  Así vivió el banquillo del Athletic la victori...   \n",
       "32  Álvaro narra las provocaciones de Neymar y le ...   \n",
       "33  La nueva casa de Ibai Llanos  en la que vivió ...   \n",
       "34  La otra cara de Eder Sarabia: \"Somos como se n...   \n",
       "35  El 'nuevo Atleti' de Dembélé, líder indiscutib...   \n",
       "36  Rod Laver: 'Cohete', campeón y modelo de campe...   \n",
       "\n",
       "                                          Descripción  \\\n",
       "0   Cristiano Ronaldo superó a Pelé como segundo m...   \n",
       "1   La desgracia se ceba con Karl-Anthony TownsRic...   \n",
       "2   James Harden lo consiguió. No quería jugar en ...   \n",
       "3   Messi no se entrena y su participación en la f...   \n",
       "4   Wayne Rooney es, en mi opinión y en la de much...   \n",
       "5   El Dakar Classic 2021 sigue avanzando y se enc...   \n",
       "6   Pepe, el mítico central del Real Madrid, ha he...   \n",
       "7   Zidane agota su once y lo paga en la Supercopa...   \n",
       "8                                                 NaN   \n",
       "9   Klopp: \"Bruno Fernandes ha sido un gran fichaj...   \n",
       "10  Adelantamientos más lentos, pero, ¿más seguros...   \n",
       "11  'Lupin', un ladrón de guante blanco llega a Ne...   \n",
       "12  El banquillo de los Mavericks 'suspende' a Don...   \n",
       "13  Klopp: \"Bruno Fernandes ha sido un gran fichaj...   \n",
       "14  Movistar muestra todas las tomasLa jugada que ...   \n",
       "15  Las elecciones no se podrán celebrar el 24 de ...   \n",
       "16  Huntelaar anuncia su retirada a final de tempo...   \n",
       "17  Última horaVacuna Covid-19CoronavirusExpansión...   \n",
       "18  Onces probables para la jornada 19Así está el ...   \n",
       "19  Escucha Radio MARCA\"¿Que el Real Madrid ha ten...   \n",
       "20  Afiliados especialesVolver a Ejercicio físicoJ...   \n",
       "21  Overcooked, conviértete en chef sin salir del ...   \n",
       "22  Ibaka se afianza en los dobles dígitos y se la...   \n",
       "23  Estadísticas completas del partidoAsí está la ...   \n",
       "24  Estadísticas completas del partidoAsí está la ...   \n",
       "25  Estadísticas completas del partidoAsí está la ...   \n",
       "26  Última horaVacuna Covid-19CoronavirusExpansión...   \n",
       "27  Chris Pratt revela su secreto para adelgazar 3...   \n",
       "28  Vicente Vallés, periodista de Antena 3, ha vue...   \n",
       "29  Descubren el planeta Pi, que orbita alrededor ...   \n",
       "30  Klopp: \"Bruno Fernandes ha sido un gran fichaj...   \n",
       "31  Klopp: \"Bruno Fernandes ha sido un gran fichaj...   \n",
       "32  Klopp: \"Bruno Fernandes ha sido un gran fichaj...   \n",
       "33  Pandarina: \"Mi consejo para empezar en Twitch ...   \n",
       "34  Después de su polémico paso por el FC Barcelon...   \n",
       "35  MARCA y Amazon unen sus fuerzas en AudibleEscu...   \n",
       "36                                                NaN   \n",
       "\n",
       "                                               Enlace  \n",
       "0   https://www.marca.com/otros-deportes/2021/01/1...  \n",
       "1   https://www.marca.com/baloncesto/nba/2021/01/1...  \n",
       "2   https://www.marca.com/baloncesto/nba/opinion/2...  \n",
       "3   https://www.marca.com/futbol/barcelona/2021/01...  \n",
       "4   https://www.marca.com/futbol/premier-league/op...  \n",
       "5   https://www.marca.com/uestudio/2021/01/14/6000...  \n",
       "6   https://www.marca.com/futbol/real-madrid/2021/...  \n",
       "7   https://www.marca.com/futbol/real-madrid/2021/...  \n",
       "8   https://www.marca.com/mundo-marca/album/2021/0...  \n",
       "9   https://videos.marca.com/v/0_1nz90mgg-pedrerol...  \n",
       "10  https://www.marca.com/coches-y-motos/trafico/2...  \n",
       "11  https://www.marca.com/tiramillas/series/2021/0...  \n",
       "12  https://www.marca.com/baloncesto/nba/2021/01/1...  \n",
       "13  https://videos.marca.com/v/0_ruz97sso-pepe-se-...  \n",
       "14  https://www.marca.com/futbol/supercopa-espana/...  \n",
       "15  https://www.marca.com/futbol/barcelona/2021/01...  \n",
       "16  https://www.marca.com/futbol/futbol-internacio...  \n",
       "17  https://www.marca.com/tiramillas/actualidad/20...  \n",
       "18  https://www.marca.com/laliga-fantasy/2021/01/1...  \n",
       "19  https://www.marca.com/radio/2021/01/15/6001d7e...  \n",
       "20  https://cuidateplus.marca.com/ejercicio-fisico...  \n",
       "21  https://www.marca.com/videojuegos/gaming-show/...  \n",
       "22  https://www.marca.com/baloncesto/nba/2021/01/1...  \n",
       "23  https://www.marca.com/baloncesto/euroliga/2021...  \n",
       "24  https://www.marca.com/baloncesto/euroliga/2021...  \n",
       "25  https://www.marca.com/baloncesto/euroliga/2021...  \n",
       "26  https://www.marca.com/tiramillas/actualidad/20...  \n",
       "27  https://www.marca.com/tiramillas/cine/2021/01/...  \n",
       "28  https://www.marca.com/tiramillas/television/20...  \n",
       "29  https://www.marca.com/tiramillas/actualidad/20...  \n",
       "30  https://videos.marca.com/v/0_xig4x8vl-el-video...  \n",
       "31  https://videos.marca.com/v/0_vmdv7n6v-asi-vivi...  \n",
       "32  https://videos.marca.com/v/0_diipgk5q-alvaro-d...  \n",
       "33  https://www.marca.com/videojuegos/lo-mas-gamin...  \n",
       "34  https://www.marca.com/futbol/2021/01/15/6001ae...  \n",
       "35  https://www.marca.com/podcast/2021/01/15/6001a...  \n",
       "36                            https://cutt.ly/XjRnHOX  "
      ]
     },
     "execution_count": 223,
     "metadata": {},
     "output_type": "execute_result"
    }
   ],
   "source": [
    "noticias_deportivas_df"
   ]
  },
  {
   "cell_type": "code",
   "execution_count": null,
   "metadata": {},
   "outputs": [],
   "source": []
  }
 ],
 "metadata": {
  "kernelspec": {
   "display_name": "Python 3",
   "language": "python",
   "name": "python3"
  },
  "language_info": {
   "codemirror_mode": {
    "name": "ipython",
    "version": 3
   },
   "file_extension": ".py",
   "mimetype": "text/x-python",
   "name": "python",
   "nbconvert_exporter": "python",
   "pygments_lexer": "ipython3",
   "version": "3.8.3"
  }
 },
 "nbformat": 4,
 "nbformat_minor": 4
}
