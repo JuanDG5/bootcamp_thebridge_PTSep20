{
 "cells": [
  {
   "cell_type": "markdown",
   "metadata": {},
   "source": [
    "# Ejercicio PCA: Nutrición"
   ]
  },
  {
   "cell_type": "markdown",
   "metadata": {},
   "source": [
    "En el siguiente ejercicio vamos a anlizar algunos datos sobre ciertos alimentos. En él, trataremos de reducir un gran número de variables a otro muhco más reducido, asumiendo ciertas pérdidas de información "
   ]
  },
  {
   "cell_type": "markdown",
   "metadata": {},
   "source": [
    "### Importa las librerías necesarias\n",
    "\n",
    "Puedes comenzar por las básicas, e ir rellenando según vayas necesitando más:"
   ]
  },
  {
   "cell_type": "code",
   "execution_count": null,
   "metadata": {},
   "outputs": [],
   "source": []
  },
  {
   "cell_type": "markdown",
   "metadata": {},
   "source": [
    "### Importa los datos\n",
    "\n",
    "Los datos que utilizaremos en este ejercicio son los que tienes en el fichero ``nndb_flat.csv``. Observa las columnas que tiene, así como su tipo."
   ]
  },
  {
   "cell_type": "code",
   "execution_count": null,
   "metadata": {},
   "outputs": [],
   "source": []
  },
  {
   "cell_type": "markdown",
   "metadata": {},
   "source": [
    "### Analiza las correlaciones de las variables\n",
    "\n",
    "¿Qué pasa con las columnas USRDA?"
   ]
  },
  {
   "cell_type": "code",
   "execution_count": null,
   "metadata": {},
   "outputs": [],
   "source": []
  },
  {
   "cell_type": "markdown",
   "metadata": {},
   "source": [
    "### Columnas redundantes\n",
    "\n",
    "Si te fijas, podemos ver que algunas de las columnas \"_USRDA\" son redundantes. ¿Podríamos prescindir de ellas? En caso afirmativo, elimínalas."
   ]
  },
  {
   "cell_type": "code",
   "execution_count": null,
   "metadata": {},
   "outputs": [],
   "source": []
  },
  {
   "cell_type": "markdown",
   "metadata": {},
   "source": [
    "### Columnas no numéricas\n",
    "\n",
    "Como hemos comprobado en uno de los apartados anteriores, no todas nuestras columnas son numéricas. Sin embargo, para aplicar el PCA sí que era necesario que lo fueran. Así que tenemos 2 opciones: convertirlas a numéricas o eliminarlas.\n",
    "\n",
    "Por lo general, convertir una categórica a numérica no le suele sentar muy bien a los algoritmos no supervisados, y menos aún si tienen muchos valores diferentes. ¿Como crees que deberías actuar con las no numéricas que tienes en el dataset?"
   ]
  },
  {
   "cell_type": "markdown",
   "metadata": {},
   "source": [
    "### Explora la distribución de los datos\n",
    "\n",
    "Si te fijas en las distribuciones de las variables, te darás cuenta de que muchas son completamente asimétricas, centradas hacia valores muy bajos próximos a 0. El PCA es un algoritmo que funciona mejor con variables con distribución gausiana (aunque no siempre es así).\n",
    "\n",
    "Realiza una transformación Box-Cox con cada variable que veas que dista mucho de seguir una distribución gausiana.\n",
    "\n",
    "*Nota*: Como tenemos muchos 0 en nuestro df, podemos sumarle 1 para evitar aquellos problemas asociados a la transformación."
   ]
  },
  {
   "cell_type": "code",
   "execution_count": null,
   "metadata": {},
   "outputs": [],
   "source": []
  },
  {
   "cell_type": "markdown",
   "metadata": {},
   "source": [
    "### Los datos ya tienen otra pinta\n",
    "\n",
    "Sin embargo, para conseguir mejores resultados, tenemos que escalar los datos. Y esto no suele ser algo opcional, como el caso anterior. Convierte las variables para que tengan media 0 y varianza unidad."
   ]
  },
  {
   "cell_type": "code",
   "execution_count": null,
   "metadata": {},
   "outputs": [],
   "source": []
  },
  {
   "cell_type": "markdown",
   "metadata": {},
   "source": [
    "### Poniendo en práctica nuestor PCA\n",
    "\n",
    "Ahora que tenemos las variables preparadas, es hora del PCA.\n",
    "\n",
    "Analiza las variables y cómo se distribuye la varainza explicada a lo largo de las columnas. ¿Podría reducir significativamente el número de variables manteniendo, al menos, un 80% de la varianza total? ¿Con cuántas varaibles me quedaría?\n",
    "\n",
    "Representa la varianza explicada en función del número de variables."
   ]
  },
  {
   "cell_type": "code",
   "execution_count": 12,
   "metadata": {},
   "outputs": [],
   "source": []
  },
  {
   "cell_type": "markdown",
   "metadata": {},
   "source": [
    "Quédate con las 5 variables más importantes y calcula su varianza explicada:"
   ]
  },
  {
   "cell_type": "code",
   "execution_count": null,
   "metadata": {},
   "outputs": [],
   "source": []
  },
  {
   "cell_type": "markdown",
   "metadata": {},
   "source": [
    "### ¿Qué grupo de comida tiene los valores más altos en cada categoría?\n",
    "\n",
    "Analiza los grupos de comida en base a las nuevas variables:"
   ]
  },
  {
   "cell_type": "code",
   "execution_count": null,
   "metadata": {},
   "outputs": [],
   "source": []
  },
  {
   "cell_type": "markdown",
   "metadata": {},
   "source": [
    "### Prediciendo valores\n",
    "\n",
    "Imagínate ahora que queremos realizar un modelo de predicción de los gramos de grasa:\n",
    "\n",
    "1. Realiza un modelo de regresión para predecir este valor con tantas varaibles como quieras (puedes utilizar pipelines y GridSearchCV par encontrar valores óptimos)"
   ]
  },
  {
   "cell_type": "code",
   "execution_count": null,
   "metadata": {},
   "outputs": [],
   "source": []
  },
  {
   "cell_type": "markdown",
   "metadata": {},
   "source": [
    "2. Repite ahora los pasos anteriores y créate 10 variables (con PCA sobre aquellas numéricas que no son el target) para predecir de nuevo este valor (también puedes utilizar pipelines y GRidSearchCV). ¿Puedes mejorar el resultado anterior?\n",
    "\n",
    "Para las comparaciones, utiliza el RMSE"
   ]
  },
  {
   "cell_type": "code",
   "execution_count": null,
   "metadata": {},
   "outputs": [],
   "source": []
  },
  {
   "cell_type": "code",
   "execution_count": null,
   "metadata": {},
   "outputs": [],
   "source": []
  }
 ],
 "metadata": {
  "kernelspec": {
   "display_name": "Python 3",
   "language": "python",
   "name": "python3"
  },
  "language_info": {
   "codemirror_mode": {
    "name": "ipython",
    "version": 3
   },
   "file_extension": ".py",
   "mimetype": "text/x-python",
   "name": "python",
   "nbconvert_exporter": "python",
   "pygments_lexer": "ipython3",
   "version": "3.8.3"
  }
 },
 "nbformat": 4,
 "nbformat_minor": 4
}
