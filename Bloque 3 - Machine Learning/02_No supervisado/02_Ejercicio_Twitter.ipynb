{
 "cells": [
  {
   "cell_type": "markdown",
   "metadata": {},
   "source": [
    "# Ejercicio: Perfiles de Twitter\n",
    "\n",
    "A continuación, vamos a realizar un ejercicio donde vamos a intentar extraer la forma de expresarse de diferentes celebridades en Twitter para ver si es algo común a la profesión que desempeñan. Para ello, haremos una agrupación en base al número de palabras que utilizan, su empatía y su extraversión."
   ]
  },
  {
   "cell_type": "markdown",
   "metadata": {},
   "source": [
    "### Importa los datos y las librerías necesarias\n",
    "\n",
    "Los datos están en el csv \"twitter.csv\""
   ]
  },
  {
   "cell_type": "code",
   "execution_count": null,
   "metadata": {
    "ExecuteTime": {
     "end_time": "2020-11-17T13:12:49.333104Z",
     "start_time": "2020-11-17T13:12:49.302217Z"
    }
   },
   "outputs": [],
   "source": []
  },
  {
   "cell_type": "markdown",
   "metadata": {
    "colab_type": "text",
    "id": "OhaWDPt-8ZlT"
   },
   "source": [
    "### Análisis descriptivo\n",
    "\n",
    "Estos datos hacen referencia a:\n",
    " * **usuario**: cuenta de Twitter de la celebridad\n",
    " * **n_palabras**: media de palabras que utiliza la cuenta en sus mensajes\n",
    " * **empatia**: grado de empatía del usuario\n",
    " * **extraversion**: grado de extraversión del usuario\n",
    " * **profesion**: profesión que desempeña el usuario. Sus valores son:\n",
    "   * 1: Actor/actriz\n",
    "   * 2: Cantante\n",
    "   * 3: Modelo\n",
    "   * 4: TV\n",
    "   * 5: Radio\n",
    "   * 6: Tecnología\n",
    "   * 7: Deportes\n",
    "   * 8: Político\n",
    "   * 9: Escritor\n",
    " \n",
    "Como hemos comentado al principio, vamos a utilizar las columnas ``n_palabras``, ``empatia`` y ``profesion``:\n",
    "1. Dibuja el histograma de cada una de ellas\n",
    "2. Realiza una representación de cada pareja de las variables, donde el color represente la profesión del usuario"
   ]
  },
  {
   "cell_type": "code",
   "execution_count": null,
   "metadata": {},
   "outputs": [],
   "source": []
  },
  {
   "cell_type": "code",
   "execution_count": null,
   "metadata": {},
   "outputs": [],
   "source": []
  },
  {
   "cell_type": "markdown",
   "metadata": {
    "colab_type": "text",
    "id": "HtBmwGdNnUGf"
   },
   "source": [
    "#### Calcula el k óptimo\n",
    "\n",
    "Para ello, utiliza los 2 métodos principales que hemos visto: inertia+elbow y silhouette_score. Evalúa, como mucho, hasta k = 20.\n",
    "\n",
    "EXTRA: Utiliza el método gráfico basado en el Silhouette score."
   ]
  },
  {
   "cell_type": "code",
   "execution_count": null,
   "metadata": {},
   "outputs": [],
   "source": []
  },
  {
   "cell_type": "code",
   "execution_count": null,
   "metadata": {},
   "outputs": [],
   "source": []
  },
  {
   "cell_type": "code",
   "execution_count": null,
   "metadata": {},
   "outputs": [],
   "source": []
  },
  {
   "cell_type": "markdown",
   "metadata": {},
   "source": [
    "#### Crea el modelo KMeans\n",
    "\n",
    "En base al k que acabas de obtener, crea el modelo no supervisado con el algoritmo KMeans. Además, créate un DataFrame con X y añade las predicciones en una nueva columna 'preds'."
   ]
  },
  {
   "cell_type": "code",
   "execution_count": null,
   "metadata": {},
   "outputs": [],
   "source": []
  },
  {
   "cell_type": "markdown",
   "metadata": {},
   "source": [
    "#### Representa la agrupación que has realizado\n",
    "\n",
    "Puedes hacerlo representando las variables de dos en dos, donde el color represente la agrupación o puedes hacerlo en 1 gráfico 3d.\n",
    "\n",
    "*Nota*:\n",
    "\n",
    "Para el gráfico 3D puedes:\n",
    "\n",
    "1. Crear una lista con colores:\n",
    "```Python\n",
    "colores = ['red', 'blue', 'green', 'black', 'yellow']\n",
    "```\n",
    "\n",
    "\n",
    "2. Crear un axis 3D:\n",
    "```Python\n",
    "ax = plt.axes(projection='3d')\n",
    "```\n",
    "\n",
    "\n",
    "3. Hacer un for para representar cada uno de los grupos de clustering, asignando colores diferentes en cada iteración, y donde cada sentencia utilice el método:\n",
    "```Python\n",
    "ax.scatter()\n",
    "```\n",
    "\n"
   ]
  },
  {
   "cell_type": "code",
   "execution_count": null,
   "metadata": {},
   "outputs": [],
   "source": []
  },
  {
   "cell_type": "markdown",
   "metadata": {},
   "source": [
    "#### Analiza los resultados\n",
    "\n",
    "Realiza un gráfico de tarta por cada grupo que has creado para ver cuántos usuarios de cada profesión original se han identificado en cada uno de estos grupos.\n",
    "\n",
    "¿Podemos mantener la teoría que habíamos planteado inicialmente en la que creíamos que los compañeros de profesión se comportarían de forma semejante en la red social?"
   ]
  },
  {
   "cell_type": "code",
   "execution_count": null,
   "metadata": {},
   "outputs": [],
   "source": []
  },
  {
   "cell_type": "markdown",
   "metadata": {},
   "source": [
    "#### Repite el proceso para el algoritmo DBSCAN\n",
    "\n",
    "1. Crea el modelo DBSCAN\n",
    "\n",
    "2. Realiza las predicciones sobre los datos y crea de nuevo un dataframe con la forma necesaria para poder repetir los apartados anteriores.\n",
    "\n",
    "3. Representa las agrupaciones y analiza los resultados"
   ]
  },
  {
   "cell_type": "code",
   "execution_count": null,
   "metadata": {},
   "outputs": [],
   "source": []
  },
  {
   "cell_type": "code",
   "execution_count": null,
   "metadata": {},
   "outputs": [],
   "source": []
  }
 ],
 "metadata": {
  "colab": {
   "collapsed_sections": [],
   "name": "kmeans-user-clustering.ipynb",
   "provenance": []
  },
  "kernelspec": {
   "display_name": "Python 3",
   "language": "python",
   "name": "python3"
  },
  "language_info": {
   "codemirror_mode": {
    "name": "ipython",
    "version": 3
   },
   "file_extension": ".py",
   "mimetype": "text/x-python",
   "name": "python",
   "nbconvert_exporter": "python",
   "pygments_lexer": "ipython3",
   "version": "3.8.3"
  },
  "nbTranslate": {
   "displayLangs": [
    "*"
   ],
   "hotkey": "alt-t",
   "langInMainMenu": true,
   "sourceLang": "en",
   "targetLang": "fr",
   "useGoogleTranslate": true
  },
  "varInspector": {
   "cols": {
    "lenName": 16,
    "lenType": 16,
    "lenVar": 40
   },
   "kernels_config": {
    "python": {
     "delete_cmd_postfix": "",
     "delete_cmd_prefix": "del ",
     "library": "var_list.py",
     "varRefreshCmd": "print(var_dic_list())"
    },
    "r": {
     "delete_cmd_postfix": ") ",
     "delete_cmd_prefix": "rm(",
     "library": "var_list.r",
     "varRefreshCmd": "cat(var_dic_list()) "
    }
   },
   "types_to_exclude": [
    "module",
    "function",
    "builtin_function_or_method",
    "instance",
    "_Feature"
   ],
   "window_display": false
  }
 },
 "nbformat": 4,
 "nbformat_minor": 4
}
