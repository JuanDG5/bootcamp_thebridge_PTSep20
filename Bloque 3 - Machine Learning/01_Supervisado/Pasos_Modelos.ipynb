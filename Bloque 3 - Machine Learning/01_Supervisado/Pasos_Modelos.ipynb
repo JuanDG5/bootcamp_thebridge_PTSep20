{
 "cells": [
  {
   "cell_type": "markdown",
   "metadata": {},
   "source": [
    "# Resumen Pasos"
   ]
  },
  {
   "cell_type": "code",
   "execution_count": null,
   "metadata": {},
   "outputs": [],
   "source": [
    "# Para ayudarnos a la otra de separar las columnas, las mostramos:\n",
    "USA_Housing.columns\n",
    "# Columnas de las que extraer los patrones (features):\n",
    "X = USA_Housing[['Avg. Area Income', 'Avg. Area House Age', 'Avg. Area Number of Rooms',\n",
    "                 'Avg. Area Number of Bedrooms', 'Area Population']]\n",
    "# Columna a predecir (Target)\n",
    "y = USA_Housing['Price']\n",
    "# ENTRENAMOS EL MODELO\n",
    "from sklearn.model_selection import train_test_split # Para hacer la partición en train-test\n",
    "X_train, X_test, y_train, y_test = train_test_split(X, y, test_size=0.3, random_state = 42)\n",
    "# Importamos el algoritmo Linear Regression Algorithm\n",
    "from sklearn.linear_model import LinearRegression\n",
    "from sklearn.model_selection import train_test_split\n",
    "# Creamos el objeto para implementar el algoritmo:\n",
    "lr = LinearRegression()\n",
    "# Entrenamos con los datos del modelo:\n",
    "lr.fit(X_train, y_train)\n",
    "# En primer lugar, podemos ver el punto de corte con el eje X (donde X=0):\n",
    "lr.intercept_\n",
    "# Y después los coeficientes:\n",
    "lr.coef_\n",
    "# Podemos ver los coeficiente a modo dataframe\n",
    "pd.DataFrame(lr.coef_,\n",
    "             X.columns,\n",
    "             columns=['Coefficent'])\n",
    "# Probamos el modelo, para lo que vamos a predecir con los datos test\n",
    "predictions = lr.predict(X_test)\n",
    "predictions\n",
    "# Representamos las predicciones\n",
    "sns.scatterplot(predictions, y_test);\n",
    "sns.lineplot(x=y_test, y=y_test, color='r')\n",
    "# Analizamos los residuos con un histograma, deben seguir una distribución normal\n",
    "sns.distplot((y_test - predictions),\n",
    "            bins=50);\n",
    "# Evaluamos la calidad del modelo\n",
    "from sklearn import metrics\n",
    "print(\"MAE:\", metrics.mean_absolute_error(y_test, predictions))\n",
    "print(\"MSE:\", metrics.mean_squared_error(y_test, predictions))\n",
    "print(\"RMSE:\", np.sqrt(metrics.mean_squared_error(y_test, predictions)))\n",
    "lr.score(X_train, y_train)# Esto nos calcula el R^2"
   ]
  }
 ],
 "metadata": {
  "kernelspec": {
   "display_name": "Python 3",
   "language": "python",
   "name": "python3"
  },
  "language_info": {
   "codemirror_mode": {
    "name": "ipython",
    "version": 3
   },
   "file_extension": ".py",
   "mimetype": "text/x-python",
   "name": "python",
   "nbconvert_exporter": "python",
   "pygments_lexer": "ipython3",
   "version": "3.8.3"
  }
 },
 "nbformat": 4,
 "nbformat_minor": 4
}
