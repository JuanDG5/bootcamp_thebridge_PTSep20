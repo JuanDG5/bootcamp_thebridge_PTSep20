{
 "cells": [
  {
   "cell_type": "markdown",
   "metadata": {},
   "source": [
    "### Se pide, usando regresión lineal:\n",
    "\n",
    "Dibujar con una línea la relación que hay entre la altura y la edad de los alumnos de esta clase: \n",
    "\n",
    "- ¿Es una buena técnica para este tipo de problemas? ¿Por qué? \n",
    "- ¿Qué error se comete? Calcula los errores que está cometiendo tu modelo uno a uno, es decir, los (lo tienes que calcular tú con python). Aparte, usa el MSE y el RMSE. ¿Alguno es mejor para este problema?\n",
    "- Representa la matriz de correlación, ¿los datos están correlacionados?"
   ]
  },
  {
   "cell_type": "code",
   "execution_count": 1,
   "metadata": {},
   "outputs": [],
   "source": [
    "lista_alumnos = [[\"Pedro\", 47, 1.80],\n",
    "                 [\"Tomás\", 31, 1.80],\n",
    "                 [\"Ana\", 39, 1.65],\n",
    "                 [\"Natalio\", 29, 1.73],\n",
    "                 [\"Monica\", 47, 1.73],\n",
    "                 [\"Jose\", 24, 1.75],\n",
    "                 [\"Carolina\", 34, 1.64],\n",
    "                 [\"Alberto\", 36, 1.60],\n",
    "                 [\"Cristina\", 46, 1.70],\n",
    "                 [\"Alba\", 29, 1.68],\n",
    "                 [\"Laura\", 40, 1.60],\n",
    "                 [\"Luis\", 47, 1.69],\n",
    "                 [\"Jaime\", 38, 1.60],\n",
    "                 [\"Fernando\", 51, 1.75]]"
   ]
  },
  {
   "cell_type": "code",
   "execution_count": 2,
   "metadata": {},
   "outputs": [],
   "source": [
    "import numpy as np   \n",
    "import pandas as pd\n",
    "import matplotlib.pyplot as plt \n",
    "import seaborn as sns\n",
    "\n",
    "from sklearn.linear_model import LinearRegression\n",
    "from sklearn.model_selection import train_test_split\n",
    "from sklearn.metrics import mean_squared_error, mean_absolute_error"
   ]
  },
  {
   "cell_type": "code",
   "execution_count": 3,
   "metadata": {},
   "outputs": [
    {
     "data": {
      "text/html": [
       "<div>\n",
       "<style scoped>\n",
       "    .dataframe tbody tr th:only-of-type {\n",
       "        vertical-align: middle;\n",
       "    }\n",
       "\n",
       "    .dataframe tbody tr th {\n",
       "        vertical-align: top;\n",
       "    }\n",
       "\n",
       "    .dataframe thead th {\n",
       "        text-align: right;\n",
       "    }\n",
       "</style>\n",
       "<table border=\"1\" class=\"dataframe\">\n",
       "  <thead>\n",
       "    <tr style=\"text-align: right;\">\n",
       "      <th></th>\n",
       "      <th>Nombre</th>\n",
       "      <th>Edad</th>\n",
       "      <th>Altura</th>\n",
       "    </tr>\n",
       "  </thead>\n",
       "  <tbody>\n",
       "    <tr>\n",
       "      <th>0</th>\n",
       "      <td>Pedro</td>\n",
       "      <td>47</td>\n",
       "      <td>1.80</td>\n",
       "    </tr>\n",
       "    <tr>\n",
       "      <th>1</th>\n",
       "      <td>Tomás</td>\n",
       "      <td>31</td>\n",
       "      <td>1.80</td>\n",
       "    </tr>\n",
       "    <tr>\n",
       "      <th>2</th>\n",
       "      <td>Ana</td>\n",
       "      <td>39</td>\n",
       "      <td>1.65</td>\n",
       "    </tr>\n",
       "    <tr>\n",
       "      <th>3</th>\n",
       "      <td>Natalio</td>\n",
       "      <td>29</td>\n",
       "      <td>1.73</td>\n",
       "    </tr>\n",
       "    <tr>\n",
       "      <th>4</th>\n",
       "      <td>Monica</td>\n",
       "      <td>47</td>\n",
       "      <td>1.73</td>\n",
       "    </tr>\n",
       "  </tbody>\n",
       "</table>\n",
       "</div>"
      ],
      "text/plain": [
       "    Nombre  Edad  Altura\n",
       "0    Pedro    47    1.80\n",
       "1    Tomás    31    1.80\n",
       "2      Ana    39    1.65\n",
       "3  Natalio    29    1.73\n",
       "4   Monica    47    1.73"
      ]
     },
     "execution_count": 3,
     "metadata": {},
     "output_type": "execute_result"
    }
   ],
   "source": [
    "df = pd.DataFrame(lista_alumnos, columns = [\"Nombre\", \"Edad\", \"Altura\"])\n",
    "df.head()"
   ]
  },
  {
   "cell_type": "code",
   "execution_count": null,
   "metadata": {},
   "outputs": [],
   "source": []
  },
  {
   "cell_type": "code",
   "execution_count": 5,
   "metadata": {},
   "outputs": [
    {
     "data": {
      "image/png": "[encoded data removed]",
      "text/plain": [
       "<Figure size 432x288 with 1 Axes>"
      ]
     },
     "metadata": {
      "needs_background": "light"
     },
     "output_type": "display_data"
    }
   ],
   "source": [
    "plt.scatter(edad, altura);"
   ]
  },
  {
   "cell_type": "code",
   "execution_count": 6,
   "metadata": {},
   "outputs": [],
   "source": [
    "X = df[['Edad']]\n",
    "y = df[['Altura']]\n",
    "X_train, X_test, y_train, y_test = train_test_split(X,\n",
    "                                                    y,\n",
    "                                                    test_size=0.2,\n",
    "                                                    random_state=42);"
   ]
  },
  {
   "cell_type": "code",
   "execution_count": 7,
   "metadata": {},
   "outputs": [
    {
     "name": "stdout",
     "output_type": "stream",
     "text": [
      "(11, 1)\n",
      "(3, 1)\n"
     ]
    }
   ],
   "source": [
    "print(X_train.shape)\n",
    "print(X_test.shape)"
   ]
  },
  {
   "cell_type": "code",
   "execution_count": 8,
   "metadata": {},
   "outputs": [
    {
     "name": "stdout",
     "output_type": "stream",
     "text": [
      "[1.72049685] [[-0.00090474]]\n"
     ]
    }
   ],
   "source": [
    "model = LinearRegression()\n",
    "model.fit(X_train, y_train)\n",
    "print(model.intercept_, model.coef_)"
   ]
  },
  {
   "cell_type": "code",
   "execution_count": 9,
   "metadata": {},
   "outputs": [
    {
     "data": {
      "image/png": "[encoded data removed]",
      "text/plain": [
       "<Figure size 432x288 with 1 Axes>"
      ]
     },
     "metadata": {
      "needs_background": "light"
     },
     "output_type": "display_data"
    }
   ],
   "source": [
    "plt.scatter(X, y, color=\"green\")\n",
    "plt.plot(X, model.predict(X), color=\"purple\")\n",
    "plt.ylabel(\"Altura\")\n",
    "plt.xlabel(\"Edad\");"
   ]
  },
  {
   "cell_type": "code",
   "execution_count": 10,
   "metadata": {},
   "outputs": [
    {
     "data": {
      "text/html": [
       "<div>\n",
       "<style scoped>\n",
       "    .dataframe tbody tr th:only-of-type {\n",
       "        vertical-align: middle;\n",
       "    }\n",
       "\n",
       "    .dataframe tbody tr th {\n",
       "        vertical-align: top;\n",
       "    }\n",
       "\n",
       "    .dataframe thead th {\n",
       "        text-align: right;\n",
       "    }\n",
       "</style>\n",
       "<table border=\"1\" class=\"dataframe\">\n",
       "  <thead>\n",
       "    <tr style=\"text-align: right;\">\n",
       "      <th></th>\n",
       "      <th>Edad</th>\n",
       "    </tr>\n",
       "  </thead>\n",
       "  <tbody>\n",
       "    <tr>\n",
       "      <th>0</th>\n",
       "      <td>47</td>\n",
       "    </tr>\n",
       "    <tr>\n",
       "      <th>1</th>\n",
       "      <td>31</td>\n",
       "    </tr>\n",
       "    <tr>\n",
       "      <th>2</th>\n",
       "      <td>39</td>\n",
       "    </tr>\n",
       "    <tr>\n",
       "      <th>3</th>\n",
       "      <td>29</td>\n",
       "    </tr>\n",
       "    <tr>\n",
       "      <th>4</th>\n",
       "      <td>47</td>\n",
       "    </tr>\n",
       "    <tr>\n",
       "      <th>5</th>\n",
       "      <td>24</td>\n",
       "    </tr>\n",
       "    <tr>\n",
       "      <th>6</th>\n",
       "      <td>34</td>\n",
       "    </tr>\n",
       "    <tr>\n",
       "      <th>7</th>\n",
       "      <td>36</td>\n",
       "    </tr>\n",
       "    <tr>\n",
       "      <th>8</th>\n",
       "      <td>46</td>\n",
       "    </tr>\n",
       "    <tr>\n",
       "      <th>9</th>\n",
       "      <td>29</td>\n",
       "    </tr>\n",
       "    <tr>\n",
       "      <th>10</th>\n",
       "      <td>40</td>\n",
       "    </tr>\n",
       "    <tr>\n",
       "      <th>11</th>\n",
       "      <td>47</td>\n",
       "    </tr>\n",
       "    <tr>\n",
       "      <th>12</th>\n",
       "      <td>38</td>\n",
       "    </tr>\n",
       "    <tr>\n",
       "      <th>13</th>\n",
       "      <td>51</td>\n",
       "    </tr>\n",
       "  </tbody>\n",
       "</table>\n",
       "</div>"
      ],
      "text/plain": [
       "    Edad\n",
       "0     47\n",
       "1     31\n",
       "2     39\n",
       "3     29\n",
       "4     47\n",
       "5     24\n",
       "6     34\n",
       "7     36\n",
       "8     46\n",
       "9     29\n",
       "10    40\n",
       "11    47\n",
       "12    38\n",
       "13    51"
      ]
     },
     "execution_count": 10,
     "metadata": {},
     "output_type": "execute_result"
    }
   ],
   "source": [
    "X"
   ]
  },
  {
   "cell_type": "code",
   "execution_count": 11,
   "metadata": {},
   "outputs": [
    {
     "data": {
      "text/plain": [
       "[[1.6779742677251572],\n",
       " [1.6924500410621404],\n",
       " [1.685212154393649],\n",
       " [1.6942595127292635],\n",
       " [1.6779742677251572],\n",
       " [1.6987831918970706],\n",
       " [1.689735833561456],\n",
       " [1.6879263618943332],\n",
       " [1.6788790035587187],\n",
       " [1.6942595127292635],\n",
       " [1.6843074185600873],\n",
       " [1.6779742677251572],\n",
       " [1.6861168902272103],\n",
       " [1.6743553243909113]]"
      ]
     },
     "execution_count": 11,
     "metadata": {},
     "output_type": "execute_result"
    }
   ],
   "source": [
    "model.predict(X).tolist()"
   ]
  },
  {
   "cell_type": "code",
   "execution_count": 12,
   "metadata": {},
   "outputs": [
    {
     "data": {
      "text/plain": [
       "[1.6779742677251572,\n",
       " 1.6924500410621404,\n",
       " 1.685212154393649,\n",
       " 1.6942595127292635,\n",
       " 1.6779742677251572,\n",
       " 1.6987831918970706,\n",
       " 1.689735833561456,\n",
       " 1.6879263618943332,\n",
       " 1.6788790035587187,\n",
       " 1.6942595127292635,\n",
       " 1.6843074185600873,\n",
       " 1.6779742677251572,\n",
       " 1.6861168902272103,\n",
       " 1.6743553243909113]"
      ]
     },
     "execution_count": 12,
     "metadata": {},
     "output_type": "execute_result"
    }
   ],
   "source": [
    "lista_tot = []\n",
    "for i in model.predict(X).tolist():\n",
    "    lista_tot.append(i[0])\n",
    "lista_tot"
   ]
  },
  {
   "cell_type": "code",
   "execution_count": 13,
   "metadata": {},
   "outputs": [
    {
     "data": {
      "text/html": [
       "<div>\n",
       "<style scoped>\n",
       "    .dataframe tbody tr th:only-of-type {\n",
       "        vertical-align: middle;\n",
       "    }\n",
       "\n",
       "    .dataframe tbody tr th {\n",
       "        vertical-align: top;\n",
       "    }\n",
       "\n",
       "    .dataframe thead th {\n",
       "        text-align: right;\n",
       "    }\n",
       "</style>\n",
       "<table border=\"1\" class=\"dataframe\">\n",
       "  <thead>\n",
       "    <tr style=\"text-align: right;\">\n",
       "      <th></th>\n",
       "      <th>Nombre</th>\n",
       "      <th>Edad</th>\n",
       "      <th>Altura</th>\n",
       "      <th>predicciones</th>\n",
       "      <th>residuos</th>\n",
       "    </tr>\n",
       "  </thead>\n",
       "  <tbody>\n",
       "    <tr>\n",
       "      <th>0</th>\n",
       "      <td>Pedro</td>\n",
       "      <td>47</td>\n",
       "      <td>1.80</td>\n",
       "      <td>1.677974</td>\n",
       "      <td>0.122026</td>\n",
       "    </tr>\n",
       "    <tr>\n",
       "      <th>1</th>\n",
       "      <td>Tomás</td>\n",
       "      <td>31</td>\n",
       "      <td>1.80</td>\n",
       "      <td>1.692450</td>\n",
       "      <td>0.107550</td>\n",
       "    </tr>\n",
       "    <tr>\n",
       "      <th>2</th>\n",
       "      <td>Ana</td>\n",
       "      <td>39</td>\n",
       "      <td>1.65</td>\n",
       "      <td>1.685212</td>\n",
       "      <td>-0.035212</td>\n",
       "    </tr>\n",
       "    <tr>\n",
       "      <th>3</th>\n",
       "      <td>Natalio</td>\n",
       "      <td>29</td>\n",
       "      <td>1.73</td>\n",
       "      <td>1.694260</td>\n",
       "      <td>0.035740</td>\n",
       "    </tr>\n",
       "    <tr>\n",
       "      <th>4</th>\n",
       "      <td>Monica</td>\n",
       "      <td>47</td>\n",
       "      <td>1.73</td>\n",
       "      <td>1.677974</td>\n",
       "      <td>0.052026</td>\n",
       "    </tr>\n",
       "    <tr>\n",
       "      <th>5</th>\n",
       "      <td>Jose</td>\n",
       "      <td>24</td>\n",
       "      <td>1.75</td>\n",
       "      <td>1.698783</td>\n",
       "      <td>0.051217</td>\n",
       "    </tr>\n",
       "    <tr>\n",
       "      <th>6</th>\n",
       "      <td>Carolina</td>\n",
       "      <td>34</td>\n",
       "      <td>1.64</td>\n",
       "      <td>1.689736</td>\n",
       "      <td>-0.049736</td>\n",
       "    </tr>\n",
       "    <tr>\n",
       "      <th>7</th>\n",
       "      <td>Alberto</td>\n",
       "      <td>36</td>\n",
       "      <td>1.60</td>\n",
       "      <td>1.687926</td>\n",
       "      <td>-0.087926</td>\n",
       "    </tr>\n",
       "    <tr>\n",
       "      <th>8</th>\n",
       "      <td>Cristina</td>\n",
       "      <td>46</td>\n",
       "      <td>1.70</td>\n",
       "      <td>1.678879</td>\n",
       "      <td>0.021121</td>\n",
       "    </tr>\n",
       "    <tr>\n",
       "      <th>9</th>\n",
       "      <td>Alba</td>\n",
       "      <td>29</td>\n",
       "      <td>1.68</td>\n",
       "      <td>1.694260</td>\n",
       "      <td>-0.014260</td>\n",
       "    </tr>\n",
       "    <tr>\n",
       "      <th>10</th>\n",
       "      <td>Laura</td>\n",
       "      <td>40</td>\n",
       "      <td>1.60</td>\n",
       "      <td>1.684307</td>\n",
       "      <td>-0.084307</td>\n",
       "    </tr>\n",
       "    <tr>\n",
       "      <th>11</th>\n",
       "      <td>Luis</td>\n",
       "      <td>47</td>\n",
       "      <td>1.69</td>\n",
       "      <td>1.677974</td>\n",
       "      <td>0.012026</td>\n",
       "    </tr>\n",
       "    <tr>\n",
       "      <th>12</th>\n",
       "      <td>Jaime</td>\n",
       "      <td>38</td>\n",
       "      <td>1.60</td>\n",
       "      <td>1.686117</td>\n",
       "      <td>-0.086117</td>\n",
       "    </tr>\n",
       "    <tr>\n",
       "      <th>13</th>\n",
       "      <td>Fernando</td>\n",
       "      <td>51</td>\n",
       "      <td>1.75</td>\n",
       "      <td>1.674355</td>\n",
       "      <td>0.075645</td>\n",
       "    </tr>\n",
       "  </tbody>\n",
       "</table>\n",
       "</div>"
      ],
      "text/plain": [
       "      Nombre  Edad  Altura  predicciones  residuos\n",
       "0      Pedro    47    1.80      1.677974  0.122026\n",
       "1      Tomás    31    1.80      1.692450  0.107550\n",
       "2        Ana    39    1.65      1.685212 -0.035212\n",
       "3    Natalio    29    1.73      1.694260  0.035740\n",
       "4     Monica    47    1.73      1.677974  0.052026\n",
       "5       Jose    24    1.75      1.698783  0.051217\n",
       "6   Carolina    34    1.64      1.689736 -0.049736\n",
       "7    Alberto    36    1.60      1.687926 -0.087926\n",
       "8   Cristina    46    1.70      1.678879  0.021121\n",
       "9       Alba    29    1.68      1.694260 -0.014260\n",
       "10     Laura    40    1.60      1.684307 -0.084307\n",
       "11      Luis    47    1.69      1.677974  0.012026\n",
       "12     Jaime    38    1.60      1.686117 -0.086117\n",
       "13  Fernando    51    1.75      1.674355  0.075645"
      ]
     },
     "execution_count": 13,
     "metadata": {},
     "output_type": "execute_result"
    }
   ],
   "source": [
    "predicciones = [e for lista in model.predict(X).tolist() for e in lista]\n",
    "\n",
    "df['predicciones'] = lista_tot\n",
    "df['residuos'] = df['Altura'] - df['predicciones']\n",
    "df"
   ]
  },
  {
   "cell_type": "code",
   "execution_count": 23,
   "metadata": {},
   "outputs": [
    {
     "name": "stdout",
     "output_type": "stream",
     "text": [
      "MSE: 0.005079410425744613\n",
      "RMSE: 0.0712699826416747\n"
     ]
    }
   ],
   "source": [
    "print('MSE:', mean_squared_error(y_test, model.predict(X_test)))\n",
    "print('RMSE:', np.sqrt(mean_squared_error(y_test, model.predict(X_test))))"
   ]
  },
  {
   "cell_type": "code",
   "execution_count": 15,
   "metadata": {},
   "outputs": [],
   "source": [
    "df_corr = df[['Edad', 'Altura']].corr()"
   ]
  },
  {
   "cell_type": "code",
   "execution_count": 47,
   "metadata": {},
   "outputs": [
    {
     "data": {
      "image/png": "[encoded data removed]",
      "text/plain": [
       "<Figure size 432x288 with 2 Axes>"
      ]
     },
     "metadata": {
      "needs_background": "light"
     },
     "output_type": "display_data"
    }
   ],
   "source": [
    "sns.heatmap(df_corr,\n",
    "           annot=True);"
   ]
  }
 ],
 "metadata": {
  "kernelspec": {
   "display_name": "Python 3",
   "language": "python",
   "name": "python3"
  },
  "language_info": {
   "codemirror_mode": {
    "name": "ipython",
    "version": 3
   },
   "file_extension": ".py",
   "mimetype": "text/x-python",
   "name": "python",
   "nbconvert_exporter": "python",
   "pygments_lexer": "ipython3",
   "version": "3.8.3"
  }
 },
 "nbformat": 4,
 "nbformat_minor": 4
}
