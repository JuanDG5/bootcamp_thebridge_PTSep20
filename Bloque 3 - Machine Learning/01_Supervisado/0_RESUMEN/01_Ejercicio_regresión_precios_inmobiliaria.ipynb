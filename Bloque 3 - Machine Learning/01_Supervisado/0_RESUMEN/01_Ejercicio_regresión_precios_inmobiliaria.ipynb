{
 "cells": [
  {
   "cell_type": "markdown",
   "metadata": {},
   "source": [
    "## Repaso Regresión: Predicción de precios Inmobiliaria India"
   ]
  },
  {
   "cell_type": "markdown",
   "metadata": {},
   "source": [
    "A continuación, se presenta un ejercicio en el que nos ponemos en el papel de un analista inmobiliario indio, donde tendremos que predecir el precio de las viviendas en base a sus características.\n",
    "\n",
    "Dispones de 2 ficheros: ``train.csv``, de donde tendrás que extraer las características de las viviendas para entrenar tu modelo; y ``test.csv``, en el que tendrás los datos para la predicción (también tienen el target para poder hacer los cálculos del score).\n",
    "\n",
    "La idea de este ejercicio es que realices diferentes transformaciones de variables y pruebes todos los algoritmos de regresión que conozcas para tratar de conseguir la mejor puntuación posible."
   ]
  },
  {
   "cell_type": "code",
   "execution_count": null,
   "metadata": {},
   "outputs": [],
   "source": []
  },
  {
   "cell_type": "code",
   "execution_count": null,
   "metadata": {},
   "outputs": [],
   "source": []
  }
 ],
 "metadata": {
  "kernelspec": {
   "display_name": "Python 3",
   "language": "python",
   "name": "python3"
  },
  "language_info": {
   "codemirror_mode": {
    "name": "ipython",
    "version": 3
   },
   "file_extension": ".py",
   "mimetype": "text/x-python",
   "name": "python",
   "nbconvert_exporter": "python",
   "pygments_lexer": "ipython3",
   "version": "3.8.3"
  }
 },
 "nbformat": 4,
 "nbformat_minor": 4
}
